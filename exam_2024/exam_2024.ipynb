{
 "cells": [
  {
   "cell_type": "markdown",
   "metadata": {},
   "source": [
    "**Table of contents**<a id='toc0_'></a>    \n",
    "- 1. [Problem 1: Production economy and CO2 taxation](#toc1_)    \n",
    "- 2. [Problem 2: Career choice model](#toc2_)    \n",
    "- 3. [Problem 3: Barycentric interpolation](#toc3_)    \n",
    "\n",
    "<!-- vscode-jupyter-toc-config\n",
    "\tnumbering=true\n",
    "\tanchor=true\n",
    "\tflat=false\n",
    "\tminLevel=2\n",
    "\tmaxLevel=6\n",
    "\t/vscode-jupyter-toc-config -->\n",
    "<!-- THIS CELL WILL BE REPLACED ON TOC UPDATE. DO NOT WRITE YOUR TEXT IN THIS CELL -->"
   ]
  },
  {
   "cell_type": "code",
   "execution_count": 8,
   "metadata": {},
   "outputs": [],
   "source": [
    "# We import all the packages we are using for further tasks:\n",
    "import numpy as np\n",
    "from types import SimpleNamespace\n",
    "from scipy.optimize import minimize\n",
    "import sympy as sm\n",
    "from IPython.display import display, Math"
   ]
  },
  {
   "cell_type": "markdown",
   "metadata": {},
   "source": [
    "## 1. <a id='toc1_'></a>[Problem 1: Production economy and CO2 taxation](#toc0_)"
   ]
  },
  {
   "cell_type": "markdown",
   "metadata": {},
   "source": [
    "Consider a production economy with two firms indexed by $j \\in \\{1,2\\}$. Each produce its own good. They solve\n",
    "\n",
    "$$\n",
    "\\begin{align*}\n",
    "\\max_{y_{j}}\\pi_{j}&=p_{j}y_{j}-w_{j}\\ell_{j}\\\\\\text{s.t.}\\;&y_{j}=A\\ell_{j}^{\\gamma}.\n",
    "\\end{align*}\n",
    "$$\n",
    "\n",
    "Optimal firm behavior is\n",
    "\n",
    "$$\n",
    "\\begin{align*}\n",
    "\\ell_{j}^{\\star}(w,p_{j})&=\\left(\\frac{p_{j}A\\gamma}{w}\\right)^{\\frac{1}{1-\\gamma}} \\\\\n",
    "y_{j}^{\\star}(w,p_{j})&=A\\left(\\ell_{j}^{\\star}(w,p_{j})\\right)^{\\gamma}\n",
    "\\end{align*}\n",
    "$$\n",
    "\n",
    "The implied profits are\n",
    "\n",
    "$$\n",
    "\\pi_{j}^*(w,p_{j})=\\frac{1-\\gamma}{\\gamma}w\\cdot\\left(\\frac{p_{j}A\\gamma}{w}\\right)^{\\frac{1}{1-\\gamma}}\n",
    "$$\n",
    "\n",
    "A single consumer supplies labor, and consumes the goods the firms produce. She also recieves the implied profits of the firm.<br>\n",
    "She solves:\n",
    "\n",
    "$$\n",
    "\\begin{align*}\n",
    "U(p_1,p_2,w,\\tau,T) = \\max_{c_{1},c_{2},\\ell} & \\log(c_{1}^{\\alpha}c_{2}^{1-\\alpha})-\\nu\\frac{\\ell^{1+\\epsilon}}{1+\\epsilon} \\\\\n",
    "\\text{s.t.}\\,\\,\\,&p_{1}c_{1}+(p_{2}+\\tau)c_{2}=w\\ell+T+\\pi_{1}^*(w,p_{1})+\\pi_{2}^*(w,p_{2})\n",
    "\\end{align*}\n",
    "$$\n",
    "\n",
    "where $\\tau$ is a tax and $T$ is lump-sum transfer. <br>\n",
    "For a given $\\ell$, it can be shown that optimal behavior is\n",
    "\n",
    "$$\n",
    "\\begin{align*}\n",
    "c_{1}(\\ell)&=\\alpha\\frac{w\\ell+T+\\pi_{1}^*(w,p_{1})+\\pi_{2}^*(w,p_{2})}{p_{1}} \\\\\n",
    "c_{2}(\\ell)&=(1-\\alpha)\\frac{w\\ell+T+\\pi_{1}^*(w,p_{1})+\\pi_{2}^*(w,p_{2})}{p_{2}+\\tau} \\\\\n",
    "\\end{align*}\n",
    "$$\n",
    "Such that optimal behavior is:\n",
    "$$\n",
    "\\ell^* = \\underset{\\ell}{\\arg\\max} \\log(\\left(c_{1}(\\ell)\\right)^{\\alpha}\\cdot \\left(c_{2}(\\ell)\\right)^{1-\\alpha})-\\nu\\frac{\\ell^{1+\\epsilon}}{1+\\epsilon} \n",
    "$$\n",
    "With optimal consumption:\n",
    "$$\n",
    "\\begin{align*}\n",
    "c_1^*=c_{1}(\\ell^*) \\\\\n",
    "c_2^*=c_{2}(\\ell^*)\\\\\n",
    "\\end{align*}\n",
    "$$\n",
    "\n",
    "\n",
    "The government chooses $\\tau$ and balances its budget so $T=\\tau c_2^*$. We initially set $\\tau,T=0$.\n",
    "\n",
    "Market clearing requires:\n",
    "\n",
    "1. Labor market: $\\ell^* = \\ell_1^* + \\ell_2^*$\n",
    "1. Good market 1: $c_1^* = y_1^*$\n",
    "1. Good market 2: $c_2^* = y_2^*$\n"
   ]
  },
  {
   "cell_type": "markdown",
   "metadata": {},
   "source": [
    "**Question 1:** Check market clearing conditions for $p_1$ in `linspace(0.1,2.0,10)` and $p_2$ in `linspace(0.1,2.0,10)`. We choose $w=1$ as numeraire."
   ]
  },
  {
   "cell_type": "markdown",
   "metadata": {},
   "source": [
    "To analyze the production economy with updated preferences, we will proceed through the following steps:\n",
    "\n",
    "1. **We calculate the Optimal Labor for Each Firm**:\n",
    "   $$\n",
    "   \\ell_j^*(w, p_j) = \\left( \\frac{p_j A \\gamma}{w} \\right)^{\\frac{1}{1-\\gamma}}\n",
    "   $$\n",
    "   This represents the amount of labor each firm \\( j \\) hires to maximize its profit.\n",
    "\n",
    "2. **We calculate the Optimal Output for Each Firm**:\n",
    "   $$\n",
    "   y_j^*(w, p_j) = A \\left( \\ell_j^*(w, p_j) \\right)^\\gamma\n",
    "   $$\n",
    "   This represents the output each firm \\( j \\) produces using the optimal labor.\n",
    "\n",
    "3. **We calculate the Implied Profits for Each Firm**:\n",
    "   $$\n",
    "   \\pi_j^*(w, p_j) = \\frac{1-\\gamma}{\\gamma} w \\left( \\frac{p_j A \\gamma}{w} \\right)^{\\frac{1}{1-\\gamma}}\n",
    "   $$\n",
    "   This represents the profits each firm \\( j \\) earns given the optimal labor and output.\n",
    "\n",
    "4. **We calculate the Optimal Consumption for the Consumer**:\n",
    "   $$\n",
    "   \\begin{align*}\n",
    "   c_1(\\ell) &= \\alpha \\frac{w \\ell + T + \\pi_1^*(w, p_1) + \\pi_2^*(w, p_2)}{p_1} \\\\\n",
    "   c_2(\\ell) &= (1-\\alpha) \\frac{w \\ell + T + \\pi_1^*(w, p_1) + \\pi_2^*(w, p_2)}{p_2 + \\tau}\n",
    "   \\end{align*}\n",
    "   $$\n",
    "   These represent the consumption of goods 1 and 2 by the consumer given the labor supply \\( \\ell \\).\n",
    "\n",
    "5. **We find the Optimal Labor Supply for the Consumer**:\n",
    "   $$\n",
    "   \\ell^* = \\underset{\\ell}{\\arg\\max} \\log \\left( (c_1(\\ell))^\\alpha \\cdot (c_2(\\ell))^{1-\\alpha} \\right) - \\nu \\frac{\\ell^{1+\\epsilon}}{1+\\epsilon}\n",
    "   $$\n",
    "   This represents the consumer's optimal labor supply that maximizes her utility.\n",
    "\n",
    "6. **Lastly we check the Market Clearing Conditions**:\n",
    "   $$\n",
    "   \\begin{align*}\n",
    "   \\text{Labor Market:} & \\quad \\ell^* = \\ell_1^* + \\ell_2^* \\\\\n",
    "   \\text{Good Market 1:} & \\quad c_1^* = y_1^* \\\\\n",
    "   \\text{Good Market 2:} & \\quad c_2^* = y_2^*\n",
    "   \\end{align*}\n",
    "   $$\n",
    "   These conditions ensure that the labor and goods markets clear.\n"
   ]
  },
  {
   "cell_type": "code",
   "execution_count": 9,
   "metadata": {},
   "outputs": [],
   "source": [
    "par = SimpleNamespace()\n",
    "\n",
    "# firms\n",
    "par.A = 1.0\n",
    "par.gamma = 0.5\n",
    "\n",
    "# households\n",
    "par.alpha = 0.3\n",
    "par.nu = 1.0\n",
    "par.epsilon = 2.0\n",
    "\n",
    "# government\n",
    "par.tau = 0.0\n",
    "par.T = 0.0\n",
    "\n",
    "# Question 3\n",
    "par.kappa = 0.1"
   ]
  },
  {
   "cell_type": "code",
   "execution_count": 10,
   "metadata": {},
   "outputs": [
    {
     "name": "stdout",
     "output_type": "stream",
     "text": [
      "p1=0.10, p2=0.10, Labor Market Clearing: False, Goods Market 1 Clearing: False, Goods Market 2 Clearing: False\n",
      "p1=0.10, p2=0.31, Labor Market Clearing: False, Goods Market 1 Clearing: False, Goods Market 2 Clearing: False\n",
      "p1=0.10, p2=0.52, Labor Market Clearing: False, Goods Market 1 Clearing: False, Goods Market 2 Clearing: False\n",
      "p1=0.10, p2=0.73, Labor Market Clearing: False, Goods Market 1 Clearing: False, Goods Market 2 Clearing: False\n",
      "p1=0.10, p2=0.94, Labor Market Clearing: False, Goods Market 1 Clearing: False, Goods Market 2 Clearing: False\n",
      "p1=0.10, p2=1.16, Labor Market Clearing: False, Goods Market 1 Clearing: False, Goods Market 2 Clearing: False\n",
      "p1=0.10, p2=1.37, Labor Market Clearing: False, Goods Market 1 Clearing: False, Goods Market 2 Clearing: False\n",
      "p1=0.10, p2=1.58, Labor Market Clearing: False, Goods Market 1 Clearing: False, Goods Market 2 Clearing: False\n",
      "p1=0.10, p2=1.79, Labor Market Clearing: False, Goods Market 1 Clearing: False, Goods Market 2 Clearing: False\n",
      "p1=0.10, p2=2.00, Labor Market Clearing: False, Goods Market 1 Clearing: False, Goods Market 2 Clearing: False\n",
      "p1=0.31, p2=0.10, Labor Market Clearing: False, Goods Market 1 Clearing: False, Goods Market 2 Clearing: False\n",
      "p1=0.31, p2=0.31, Labor Market Clearing: False, Goods Market 1 Clearing: False, Goods Market 2 Clearing: False\n",
      "p1=0.31, p2=0.52, Labor Market Clearing: False, Goods Market 1 Clearing: False, Goods Market 2 Clearing: False\n",
      "p1=0.31, p2=0.73, Labor Market Clearing: False, Goods Market 1 Clearing: False, Goods Market 2 Clearing: False\n",
      "p1=0.31, p2=0.94, Labor Market Clearing: False, Goods Market 1 Clearing: False, Goods Market 2 Clearing: False\n",
      "p1=0.31, p2=1.16, Labor Market Clearing: False, Goods Market 1 Clearing: False, Goods Market 2 Clearing: False\n",
      "p1=0.31, p2=1.37, Labor Market Clearing: False, Goods Market 1 Clearing: False, Goods Market 2 Clearing: False\n",
      "p1=0.31, p2=1.58, Labor Market Clearing: False, Goods Market 1 Clearing: False, Goods Market 2 Clearing: False\n",
      "p1=0.31, p2=1.79, Labor Market Clearing: False, Goods Market 1 Clearing: False, Goods Market 2 Clearing: False\n",
      "p1=0.31, p2=2.00, Labor Market Clearing: False, Goods Market 1 Clearing: False, Goods Market 2 Clearing: False\n",
      "p1=0.52, p2=0.10, Labor Market Clearing: False, Goods Market 1 Clearing: False, Goods Market 2 Clearing: False\n",
      "p1=0.52, p2=0.31, Labor Market Clearing: False, Goods Market 1 Clearing: False, Goods Market 2 Clearing: False\n",
      "p1=0.52, p2=0.52, Labor Market Clearing: False, Goods Market 1 Clearing: False, Goods Market 2 Clearing: False\n",
      "p1=0.52, p2=0.73, Labor Market Clearing: False, Goods Market 1 Clearing: False, Goods Market 2 Clearing: False\n",
      "p1=0.52, p2=0.94, Labor Market Clearing: False, Goods Market 1 Clearing: False, Goods Market 2 Clearing: False\n",
      "p1=0.52, p2=1.16, Labor Market Clearing: False, Goods Market 1 Clearing: False, Goods Market 2 Clearing: False\n",
      "p1=0.52, p2=1.37, Labor Market Clearing: False, Goods Market 1 Clearing: False, Goods Market 2 Clearing: False\n",
      "p1=0.52, p2=1.58, Labor Market Clearing: False, Goods Market 1 Clearing: False, Goods Market 2 Clearing: False\n",
      "p1=0.52, p2=1.79, Labor Market Clearing: False, Goods Market 1 Clearing: False, Goods Market 2 Clearing: False\n",
      "p1=0.52, p2=2.00, Labor Market Clearing: False, Goods Market 1 Clearing: False, Goods Market 2 Clearing: False\n",
      "p1=0.73, p2=0.10, Labor Market Clearing: False, Goods Market 1 Clearing: False, Goods Market 2 Clearing: False\n",
      "p1=0.73, p2=0.31, Labor Market Clearing: False, Goods Market 1 Clearing: False, Goods Market 2 Clearing: False\n",
      "p1=0.73, p2=0.52, Labor Market Clearing: False, Goods Market 1 Clearing: False, Goods Market 2 Clearing: False\n",
      "p1=0.73, p2=0.73, Labor Market Clearing: False, Goods Market 1 Clearing: False, Goods Market 2 Clearing: False\n",
      "p1=0.73, p2=0.94, Labor Market Clearing: False, Goods Market 1 Clearing: False, Goods Market 2 Clearing: False\n",
      "p1=0.73, p2=1.16, Labor Market Clearing: False, Goods Market 1 Clearing: False, Goods Market 2 Clearing: False\n",
      "p1=0.73, p2=1.37, Labor Market Clearing: False, Goods Market 1 Clearing: False, Goods Market 2 Clearing: False\n",
      "p1=0.73, p2=1.58, Labor Market Clearing: False, Goods Market 1 Clearing: False, Goods Market 2 Clearing: False\n",
      "p1=0.73, p2=1.79, Labor Market Clearing: False, Goods Market 1 Clearing: False, Goods Market 2 Clearing: False\n",
      "p1=0.73, p2=2.00, Labor Market Clearing: False, Goods Market 1 Clearing: False, Goods Market 2 Clearing: False\n",
      "p1=0.94, p2=0.10, Labor Market Clearing: False, Goods Market 1 Clearing: False, Goods Market 2 Clearing: False\n",
      "p1=0.94, p2=0.31, Labor Market Clearing: False, Goods Market 1 Clearing: False, Goods Market 2 Clearing: False\n",
      "p1=0.94, p2=0.52, Labor Market Clearing: False, Goods Market 1 Clearing: False, Goods Market 2 Clearing: False\n",
      "p1=0.94, p2=0.73, Labor Market Clearing: False, Goods Market 1 Clearing: False, Goods Market 2 Clearing: False\n",
      "p1=0.94, p2=0.94, Labor Market Clearing: False, Goods Market 1 Clearing: False, Goods Market 2 Clearing: False\n",
      "p1=0.94, p2=1.16, Labor Market Clearing: False, Goods Market 1 Clearing: False, Goods Market 2 Clearing: False\n",
      "p1=0.94, p2=1.37, Labor Market Clearing: False, Goods Market 1 Clearing: False, Goods Market 2 Clearing: False\n",
      "p1=0.94, p2=1.58, Labor Market Clearing: False, Goods Market 1 Clearing: False, Goods Market 2 Clearing: False\n",
      "p1=0.94, p2=1.79, Labor Market Clearing: False, Goods Market 1 Clearing: False, Goods Market 2 Clearing: False\n",
      "p1=0.94, p2=2.00, Labor Market Clearing: False, Goods Market 1 Clearing: False, Goods Market 2 Clearing: False\n",
      "p1=1.16, p2=0.10, Labor Market Clearing: False, Goods Market 1 Clearing: False, Goods Market 2 Clearing: False\n",
      "p1=1.16, p2=0.31, Labor Market Clearing: False, Goods Market 1 Clearing: False, Goods Market 2 Clearing: False\n",
      "p1=1.16, p2=0.52, Labor Market Clearing: False, Goods Market 1 Clearing: False, Goods Market 2 Clearing: False\n",
      "p1=1.16, p2=0.73, Labor Market Clearing: False, Goods Market 1 Clearing: False, Goods Market 2 Clearing: False\n",
      "p1=1.16, p2=0.94, Labor Market Clearing: False, Goods Market 1 Clearing: False, Goods Market 2 Clearing: False\n",
      "p1=1.16, p2=1.16, Labor Market Clearing: False, Goods Market 1 Clearing: False, Goods Market 2 Clearing: False\n",
      "p1=1.16, p2=1.37, Labor Market Clearing: False, Goods Market 1 Clearing: False, Goods Market 2 Clearing: False\n",
      "p1=1.16, p2=1.58, Labor Market Clearing: False, Goods Market 1 Clearing: False, Goods Market 2 Clearing: False\n",
      "p1=1.16, p2=1.79, Labor Market Clearing: False, Goods Market 1 Clearing: False, Goods Market 2 Clearing: False\n",
      "p1=1.16, p2=2.00, Labor Market Clearing: False, Goods Market 1 Clearing: False, Goods Market 2 Clearing: False\n",
      "p1=1.37, p2=0.10, Labor Market Clearing: False, Goods Market 1 Clearing: False, Goods Market 2 Clearing: False\n",
      "p1=1.37, p2=0.31, Labor Market Clearing: False, Goods Market 1 Clearing: False, Goods Market 2 Clearing: False\n",
      "p1=1.37, p2=0.52, Labor Market Clearing: False, Goods Market 1 Clearing: False, Goods Market 2 Clearing: False\n",
      "p1=1.37, p2=0.73, Labor Market Clearing: False, Goods Market 1 Clearing: False, Goods Market 2 Clearing: False\n",
      "p1=1.37, p2=0.94, Labor Market Clearing: False, Goods Market 1 Clearing: False, Goods Market 2 Clearing: False\n",
      "p1=1.37, p2=1.16, Labor Market Clearing: False, Goods Market 1 Clearing: False, Goods Market 2 Clearing: False\n",
      "p1=1.37, p2=1.37, Labor Market Clearing: False, Goods Market 1 Clearing: False, Goods Market 2 Clearing: False\n",
      "p1=1.37, p2=1.58, Labor Market Clearing: False, Goods Market 1 Clearing: False, Goods Market 2 Clearing: False\n",
      "p1=1.37, p2=1.79, Labor Market Clearing: False, Goods Market 1 Clearing: False, Goods Market 2 Clearing: False\n",
      "p1=1.37, p2=2.00, Labor Market Clearing: False, Goods Market 1 Clearing: False, Goods Market 2 Clearing: False\n",
      "p1=1.58, p2=0.10, Labor Market Clearing: False, Goods Market 1 Clearing: False, Goods Market 2 Clearing: False\n",
      "p1=1.58, p2=0.31, Labor Market Clearing: False, Goods Market 1 Clearing: False, Goods Market 2 Clearing: False\n",
      "p1=1.58, p2=0.52, Labor Market Clearing: False, Goods Market 1 Clearing: False, Goods Market 2 Clearing: False\n",
      "p1=1.58, p2=0.73, Labor Market Clearing: False, Goods Market 1 Clearing: False, Goods Market 2 Clearing: False\n",
      "p1=1.58, p2=0.94, Labor Market Clearing: False, Goods Market 1 Clearing: False, Goods Market 2 Clearing: False\n",
      "p1=1.58, p2=1.16, Labor Market Clearing: False, Goods Market 1 Clearing: False, Goods Market 2 Clearing: False\n",
      "p1=1.58, p2=1.37, Labor Market Clearing: False, Goods Market 1 Clearing: False, Goods Market 2 Clearing: False\n",
      "p1=1.58, p2=1.58, Labor Market Clearing: False, Goods Market 1 Clearing: False, Goods Market 2 Clearing: False\n",
      "p1=1.58, p2=1.79, Labor Market Clearing: False, Goods Market 1 Clearing: False, Goods Market 2 Clearing: False\n",
      "p1=1.58, p2=2.00, Labor Market Clearing: False, Goods Market 1 Clearing: False, Goods Market 2 Clearing: False\n",
      "p1=1.79, p2=0.10, Labor Market Clearing: False, Goods Market 1 Clearing: False, Goods Market 2 Clearing: False\n",
      "p1=1.79, p2=0.31, Labor Market Clearing: False, Goods Market 1 Clearing: False, Goods Market 2 Clearing: False\n",
      "p1=1.79, p2=0.52, Labor Market Clearing: False, Goods Market 1 Clearing: False, Goods Market 2 Clearing: False\n",
      "p1=1.79, p2=0.73, Labor Market Clearing: False, Goods Market 1 Clearing: False, Goods Market 2 Clearing: False\n",
      "p1=1.79, p2=0.94, Labor Market Clearing: False, Goods Market 1 Clearing: False, Goods Market 2 Clearing: False\n",
      "p1=1.79, p2=1.16, Labor Market Clearing: False, Goods Market 1 Clearing: False, Goods Market 2 Clearing: False\n",
      "p1=1.79, p2=1.37, Labor Market Clearing: False, Goods Market 1 Clearing: False, Goods Market 2 Clearing: False\n",
      "p1=1.79, p2=1.58, Labor Market Clearing: False, Goods Market 1 Clearing: False, Goods Market 2 Clearing: False\n",
      "p1=1.79, p2=1.79, Labor Market Clearing: False, Goods Market 1 Clearing: False, Goods Market 2 Clearing: False\n",
      "p1=1.79, p2=2.00, Labor Market Clearing: False, Goods Market 1 Clearing: False, Goods Market 2 Clearing: False\n",
      "p1=2.00, p2=0.10, Labor Market Clearing: False, Goods Market 1 Clearing: False, Goods Market 2 Clearing: False\n",
      "p1=2.00, p2=0.31, Labor Market Clearing: False, Goods Market 1 Clearing: False, Goods Market 2 Clearing: False\n",
      "p1=2.00, p2=0.52, Labor Market Clearing: False, Goods Market 1 Clearing: False, Goods Market 2 Clearing: False\n",
      "p1=2.00, p2=0.73, Labor Market Clearing: False, Goods Market 1 Clearing: False, Goods Market 2 Clearing: False\n",
      "p1=2.00, p2=0.94, Labor Market Clearing: False, Goods Market 1 Clearing: False, Goods Market 2 Clearing: False\n",
      "p1=2.00, p2=1.16, Labor Market Clearing: False, Goods Market 1 Clearing: False, Goods Market 2 Clearing: False\n",
      "p1=2.00, p2=1.37, Labor Market Clearing: False, Goods Market 1 Clearing: False, Goods Market 2 Clearing: False\n",
      "p1=2.00, p2=1.58, Labor Market Clearing: False, Goods Market 1 Clearing: False, Goods Market 2 Clearing: False\n",
      "p1=2.00, p2=1.79, Labor Market Clearing: False, Goods Market 1 Clearing: False, Goods Market 2 Clearing: False\n",
      "p1=2.00, p2=2.00, Labor Market Clearing: False, Goods Market 1 Clearing: False, Goods Market 2 Clearing: False\n"
     ]
    }
   ],
   "source": [
    "import numpy as np\n",
    "from scipy.optimize import minimize\n",
    "from types import SimpleNamespace\n",
    "\n",
    "# We set w to numeraire\n",
    "w = 1.0\n",
    "\n",
    "# We define functions for optimal firm behavior\n",
    "def ell_star(pj, A, gamma, w):\n",
    "    return (pj * A * gamma / w) ** (1 / (1 - gamma))\n",
    "\n",
    "def y_star(pj, A, gamma, w):\n",
    "    ell = ell_star(pj, A, gamma, w)\n",
    "    return A * ell ** gamma\n",
    "\n",
    "def pi_star(pj, A, gamma, w):\n",
    "    ell = ell_star(pj, A, gamma, w)\n",
    "    return (1 - gamma) / gamma * w * ell\n",
    "\n",
    "# We define function for optimal consumption given labor supply\n",
    "def c1(ell, w, T, pi1, pi2, p1, alpha):\n",
    "    return alpha * (w * ell + T + pi1 + pi2) / p1\n",
    "\n",
    "def c2(ell, w, T, pi1, pi2, p2, tau, alpha):\n",
    "    return (1 - alpha) * (w * ell + T + pi1 + pi2) / (p2 + tau)\n",
    "\n",
    "# Finally, we define utility function to be maximized\n",
    "def utility(ell, w, T, pi1, pi2, p1, p2, tau, alpha, nu, epsilon):\n",
    "    c1_val = c1(ell, w, T, pi1, pi2, p1, alpha)\n",
    "    c2_val = c2(ell, w, T, pi1, pi2, p2, tau, alpha)\n",
    "    return np.log(c1_val ** alpha * c2_val ** (1 - alpha)) - nu * (ell ** (1 + epsilon)) / (1 + epsilon)\n",
    "\n",
    "# Now we iterate over p1 and p2 values\n",
    "p1_values = np.linspace(0.1, 2.0, 10)\n",
    "p2_values = np.linspace(0.1, 2.0, 10)\n",
    "\n",
    "# We make a for-loop where we for each unique value of p1 and p2 find the market clearing conditions\n",
    "for p1 in p1_values:\n",
    "    for p2 in p2_values:\n",
    "        # We calculate firm-specific variables\n",
    "        ell1_star = ell_star(p1, par.A, par.gamma, w)\n",
    "        y1_star = y_star(p1, par.A, par.gamma, w)\n",
    "        pi1_star = pi_star(p1, par.A, par.gamma, w)\n",
    "        \n",
    "        ell2_star = ell_star(p2, par.A, par.gamma, w)\n",
    "        y2_star = y_star(p2, par.A, par.gamma, w)\n",
    "        pi2_star = pi_star(p2, par.A, par.gamma, w)\n",
    "        \n",
    "        # We solve for optimal labor supply\n",
    "        result = minimize(lambda ell: -utility(ell, w, par.T, pi1_star, pi2_star, p1, p2, par.tau, par.alpha, par.nu, par.epsilon), 1.0)\n",
    "        ell_star_opt = result.x[0]\n",
    "        \n",
    "        # We now calculate optimal consumption\n",
    "        c1_star = c1(ell_star_opt, w, par.T, pi1_star, pi2_star, p1, par.alpha)\n",
    "        c2_star = c2(ell_star_opt, w, par.T, pi1_star, pi2_star, p2, par.tau, par.alpha)\n",
    "        \n",
    "        # Lastly we check market clearing conditions with adjusted tolerance\n",
    "        labor_market_clearing = np.isclose(ell_star_opt, ell1_star + ell2_star, atol=1e-5)\n",
    "        goods_market_1_clearing = np.isclose(c1_star, y1_star, atol=1e-5)\n",
    "        goods_market_2_clearing = np.isclose(c2_star, y2_star, atol=1e-5)\n",
    "        \n",
    "        # Print results\n",
    "        print(f'p1={p1:.2f}, p2={p2:.2f}, Labor Market Clearing: {labor_market_clearing}, '\n",
    "              f'Goods Market 1 Clearing: {goods_market_1_clearing}, Goods Market 2 Clearing: {goods_market_2_clearing}')\n"
   ]
  },
  {
   "cell_type": "markdown",
   "metadata": {},
   "source": [
    "**Question 2:** Find the equilibrium prices $p_1$ and $p_2$.<br>\n",
    "*Hint: you can use Walras' law to only check 2 of the market clearings*"
   ]
  },
  {
   "cell_type": "code",
   "execution_count": 11,
   "metadata": {},
   "outputs": [
    {
     "name": "stdout",
     "output_type": "stream",
     "text": [
      "Optimal p1: 0.9760, Optimal p2: 1.4908\n",
      "\n"
     ]
    }
   ],
   "source": [
    "import numpy as np\n",
    "from scipy.optimize import minimize\n",
    "from types import SimpleNamespace\n",
    "\n",
    "# We start out by defining our discrepancy function to minimize for market clearing\n",
    "def market_clearing_discrepancy(prices, par, w):\n",
    "    p1, p2 = prices\n",
    "    \n",
    "    # We then calculate firm-specific variables\n",
    "    ell1_star = ell_star(p1, par.A, par.gamma, w)\n",
    "    y1_star = y_star(p1, par.A, par.gamma, w)\n",
    "    pi1_star = pi_star(p1, par.A, par.gamma, w)\n",
    "    \n",
    "    ell2_star = ell_star(p2, par.A, par.gamma, w)\n",
    "    y2_star = y_star(p2, par.A, par.gamma, w)\n",
    "    pi2_star = pi_star(p2, par.A, par.gamma, w)\n",
    "    \n",
    "    # We now solve for optimal labor supply\n",
    "    result = minimize(lambda ell: -utility(ell, w, par.T, pi1_star, pi2_star, p1, p2, par.tau, par.alpha, par.nu, par.epsilon), 1.0)\n",
    "    ell_star_opt = result.x[0]\n",
    "    \n",
    "    # Now we calculate optimal consumption\n",
    "    c1_star = c1(ell_star_opt, w, par.T, pi1_star, pi2_star, p1, par.alpha)\n",
    "    c2_star = c2(ell_star_opt, w, par.T, pi1_star, pi2_star, p2, par.tau, par.alpha)\n",
    "    \n",
    "    # And discrepancies for market clearing\n",
    "    discrepancy_c1 = c1_star - y1_star\n",
    "    discrepancy_c2 = c2_star - y2_star\n",
    "    \n",
    "    # Then we sum over the squared discrepancies\n",
    "    return discrepancy_c1**2 + discrepancy_c2**2\n",
    "\n",
    "# Makes our initial guess for p1 and p2\n",
    "initial_guess = [1.0, 1.0]\n",
    "\n",
    "# Lastly we use optimizer to find the equilibrium prices\n",
    "result = minimize(market_clearing_discrepancy, initial_guess, args=(par, w), bounds=[(0.1, 10), (0.1, 10)])\n",
    "optimal_p1, optimal_p2 = result.x\n",
    "\n",
    "print(f'Optimal p1: {optimal_p1:.4f}, Optimal p2: {optimal_p2:.4f}')\n",
    "print()\n"
   ]
  },
  {
   "cell_type": "markdown",
   "metadata": {},
   "source": [
    "Assume the government care about the social welfare function:\n",
    "\n",
    "$$\n",
    "SWF = U - \\kappa y_2^*\n",
    "$$"
   ]
  },
  {
   "cell_type": "markdown",
   "metadata": {},
   "source": [
    "Here $\\kappa$ measures the social cost of carbon emitted by the production of $y_2$ in equilibrium."
   ]
  },
  {
   "cell_type": "markdown",
   "metadata": {},
   "source": [
    "**Question 3:** What values of $\\tau$ and (implied) $T$ should the government choose to maximize $SWF$?"
   ]
  },
  {
   "cell_type": "code",
   "execution_count": 12,
   "metadata": {},
   "outputs": [
    {
     "name": "stdout",
     "output_type": "stream",
     "text": [
      "Solution for c_2:\n",
      "-α⋅l⋅w - α⋅π₁ - α⋅π₂ + l⋅w + π₁ + π₂\n",
      "────────────────────────────────────\n",
      "              α⋅τ + p₂              \n",
      "\n",
      "Solution for c_1:\n",
      "α⋅(l⋅p₂⋅w + l⋅τ⋅w + p₂⋅π₁ + p₂⋅π₂ + π₁⋅τ + π₂⋅τ)\n",
      "────────────────────────────────────────────────\n",
      "                 p₁⋅(α⋅τ + p₂)                  \n"
     ]
    }
   ],
   "source": [
    "import sympy as sm\n",
    "\n",
    "# We define our symbols\n",
    "c_2, alpha, w, l, tau, pi1, pi2, p2, p1 = sm.symbols('c_2 alpha w l tau pi1 pi2 p2 p1')\n",
    "\n",
    "# We have the given equation for c_2\n",
    "equation_c2 = sm.Eq(c_2, (1 - alpha) * (w * l + tau * c_2 + pi1 + pi2) / (p2 + tau))\n",
    "\n",
    "# Now we solve for c_2\n",
    "c2_solution = sm.solve(equation_c2, c_2)[0]\n",
    "\n",
    "# We then define the equation for c_1\n",
    "c_1 = sm.symbols('c_1')\n",
    "T = tau * c2_solution\n",
    "equation_c1 = sm.Eq(c_1, alpha * (w * l + T + pi1 + pi2) / p1)\n",
    "\n",
    "# And solve for c_1\n",
    "c1_solution = sm.simplify(equation_c1.rhs)\n",
    "\n",
    "# Then we print the solutions\n",
    "print(\"Solution for c_2:\")\n",
    "sm.pretty_print(c2_solution)\n",
    "\n",
    "print(\"\\nSolution for c_1:\")\n",
    "sm.pretty_print(c1_solution)"
   ]
  },
  {
   "cell_type": "code",
   "execution_count": 13,
   "metadata": {},
   "outputs": [
    {
     "data": {
      "text/plain": [
       "(0.17107098207837068,\n",
       " 0.7936883636197613,\n",
       " 0.5258371030717772,\n",
       " 0.7205772142619443,\n",
       " -0.5888800374036629,\n",
       " -0.6609377588298573)"
      ]
     },
     "execution_count": 13,
     "metadata": {},
     "output_type": "execute_result"
    }
   ],
   "source": [
    "from types import SimpleNamespace\n",
    "import numpy as np\n",
    "from scipy.optimize import minimize_scalar\n",
    "\n",
    "# We define parameters\n",
    "par = SimpleNamespace()\n",
    "par.A = 1.0\n",
    "par.gamma = 0.5\n",
    "par.alpha = 0.3\n",
    "par.nu = 1.0\n",
    "par.epsilon = 2.0\n",
    "par.kappa = 0.1\n",
    "\n",
    "p1_optimal = 0.9760\n",
    "p2_optimal = 1.4908\n",
    "w = 1 \n",
    "\n",
    "# We plot the functions for optimal firm behavior\n",
    "def ell_star(pj, A, gamma, w):\n",
    "    return (pj * A * gamma / w) ** (1 / (1 - gamma))\n",
    "\n",
    "def y_star(pj, A, gamma, w):\n",
    "    ell = ell_star(pj, A, gamma, w)\n",
    "    return A * ell ** gamma\n",
    "\n",
    "def pi_star(pj, A, gamma, w):\n",
    "    ell = ell_star(pj, A, gamma, w)\n",
    "    return (1 - gamma) / gamma * w * ell\n",
    "\n",
    "# We calculate optimal values for firms\n",
    "ell1_star = ell_star(p1_optimal, par.A, par.gamma, w)\n",
    "ell2_star = ell_star(p2_optimal, par.A, par.gamma, w)\n",
    "\n",
    "y1_star = y_star(p1_optimal, par.A, par.gamma, w)\n",
    "y2_star = y_star(p2_optimal, par.A, par.gamma, w)\n",
    "\n",
    "pi1_star = pi_star(p1_optimal, par.A, par.gamma, w)\n",
    "pi2_star = pi_star(p2_optimal, par.A, par.gamma, w)\n",
    "\n",
    "# We plot our functions for optimal consumption given labor supply\n",
    "def c2_Q3(ell, w, pi1_star, pi2_star, p2, tau, alpha):\n",
    "    return (1 - alpha) * (w * ell + pi1_star + pi2_star) / (p2 + tau * alpha)\n",
    "\n",
    "def c1_Q3(ell, w, pi1_star, pi2_star, p1, p2, tau, alpha):\n",
    "    T = tau * c2_Q3(ell, w, pi1_star, pi2_star, p2, tau, alpha)\n",
    "    return alpha * (w * ell + T + pi1_star + pi2_star) / p1\n",
    "\n",
    "# We then defines our utility function\n",
    "def utility(ell, w, pi1_star, pi2_star, p1, p2, tau, alpha, nu, epsilon):\n",
    "    c1_val = c1_Q3(ell, w, pi1_star, pi2_star, p1, p2, tau, alpha)\n",
    "    c2_val = c2_Q3(ell, w, pi1_star, pi2_star, p2, tau, alpha)\n",
    "    return np.log(c1_val ** alpha * c2_val ** (1 - alpha)) - nu * (ell ** (1 + epsilon)) / (1 + epsilon)\n",
    "\n",
    "# And optimal labor supply\n",
    "def optimal_ell(w, pi1_star, pi2_star, p1, p2, tau, alpha, nu, epsilon):\n",
    "    res = minimize_scalar(lambda ell: -utility(ell, w, pi1_star, pi2_star, p1, p2, tau, alpha, nu, epsilon), bounds=(0, 10), method='bounded')\n",
    "    return res.x\n",
    "\n",
    "# And social welfare function\n",
    "def swf(tau, w, pi1_star, pi2_star, p1, p2, alpha, nu, epsilon, kappa):\n",
    "    ell_star = optimal_ell(w, pi1_star, pi2_star, p1, p2, tau, alpha, nu, epsilon)\n",
    "    T = tau * c2_Q3(ell_star, w, pi1_star, pi2_star, p2, tau, alpha)\n",
    "    c1_star = c1_Q3(ell_star, w, pi1_star, pi2_star, p1, p2, tau, alpha)\n",
    "    c2_star = c2_Q3(ell_star, w, pi1_star, pi2_star, p2, tau, alpha)\n",
    "    U_star = utility(ell_star, w, pi1_star, pi2_star, p1, p2, tau, alpha, nu, epsilon)\n",
    "    return U_star - kappa * c2_star\n",
    "\n",
    "# Lastly we optimize SWF with respect to tau\n",
    "res_tau = minimize_scalar(lambda tau: -swf(tau, w, pi1_star, pi2_star, p1_optimal, p2_optimal, par.alpha, par.nu, par.epsilon, par.kappa), bounds=(0, 1), method='bounded')\n",
    "optimal_tau = res_tau.x\n",
    "\n",
    "# Insert the value and calculates the optimal values for the optimal tau\n",
    "ell_star_optimal = optimal_ell(w, pi1_star, pi2_star, p1_optimal, p2_optimal, optimal_tau, par.alpha, par.nu, par.epsilon)\n",
    "T_optimal = optimal_tau * c2_Q3(ell_star_optimal, w, pi1_star, pi2_star, p2_optimal, optimal_tau, par.alpha)\n",
    "c1_star_optimal = c1_Q3(ell_star_optimal, w, pi1_star, pi2_star, p1_optimal, p2_optimal, optimal_tau, par.alpha)\n",
    "c2_star_optimal = c2_Q3(ell_star_optimal, w, pi1_star, pi2_star, p2_optimal, optimal_tau, par.alpha)\n",
    "U_star_optimal = utility(ell_star_optimal, w, pi1_star, pi2_star, p1_optimal, p2_optimal, optimal_tau, par.alpha, par.nu, par.epsilon)\n",
    "swf_optimal = swf(optimal_tau, w, pi1_star, pi2_star, p1_optimal, p2_optimal, par.alpha, par.nu, par.epsilon, par.kappa)\n",
    "\n",
    "optimal_tau, ell_star_optimal, c1_star_optimal, c2_star_optimal, U_star_optimal, swf_optimal\n"
   ]
  },
  {
   "cell_type": "markdown",
   "metadata": {},
   "source": [
    "## 2. <a id='toc2_'></a>[Problem 2: Career choice model](#toc0_)"
   ]
  },
  {
   "cell_type": "markdown",
   "metadata": {},
   "source": [
    "Consider a graduate $i$ making a choice between entering $J$ different career tracks. <br>\n",
    "Entering career $j$ yields utility $u^k_{ij}$. This value is unknown to the graduate ex ante, but will ex post be: <br>\n",
    "$$\n",
    "    u_{i,j}^k = v_{j} + \\epsilon_{i,j}^k\n",
    "$$\n",
    "\n",
    "They know that $\\epsilon^k_{i,j}\\sim \\mathcal{N}(0,\\sigma^2)$, but they do not observe $\\epsilon^k_{i,j}$ before making their career choice. <br>"
   ]
  },
  {
   "cell_type": "markdown",
   "metadata": {},
   "source": [
    "Consider the concrete case of $J=3$ with:\n",
    "$$\n",
    "\\begin{align*}\n",
    "    v_{1} &= 1 \\\\\n",
    "    v_{2} &= 2 \\\\\n",
    "    v_{3} &= 3\n",
    "\\end{align*}\n",
    "$$"
   ]
  },
  {
   "cell_type": "markdown",
   "metadata": {},
   "source": [
    "If the graduates know the values of $v_j$ and the distribution of $\\epsilon_{i,j}^k$, they can calculate the expected utility of each career track using simulation: <br>\n",
    "$$\n",
    "    \\mathbb{E}\\left[ u^k_{i,j}\\vert v_j \\right] \\approx v_j + \\frac{1}{K}\\sum_{k=1}^K \\epsilon_{i,j}^k\n",
    "$$"
   ]
  },
  {
   "cell_type": "code",
   "execution_count": 14,
   "metadata": {},
   "outputs": [],
   "source": [
    "par = SimpleNamespace()\n",
    "par.J = 3\n",
    "par.N = 10\n",
    "par.K = 10000\n",
    "\n",
    "par.F = np.arange(1,par.N+1)\n",
    "par.sigma = 2\n",
    "\n",
    "par.v = np.array([1,2,3])\n",
    "par.c = 1"
   ]
  },
  {
   "cell_type": "markdown",
   "metadata": {},
   "source": [
    "**Question 1:** Simulate and calculate expected utility and the average realised utility for $K=10000$ draws, for each career choice $j$.\n"
   ]
  },
  {
   "cell_type": "markdown",
   "metadata": {},
   "source": [
    "1. **Simulate the random component:** Generate $K$ random draws from a normal distribution $\\mathcal{N}(0, \\sigma^2)$ for each career track.\n",
    "\n",
    "2. **Calculate the realized utility for each draw:** For each career track $j$, compute the utility as $v_j + \\epsilon_{i,j}^k$ for each draw $k$.\n",
    "\n",
    "3. **Calculate the average realized utility:** Take the average of these utilities for each career track.\n"
   ]
  },
  {
   "cell_type": "code",
   "execution_count": 15,
   "metadata": {},
   "outputs": [
    {
     "name": "stdout",
     "output_type": "stream",
     "text": [
      "Career track 1:\n",
      "Expected Utility: 1\n",
      "Average Realized Utility: 0.9938642942650631\n",
      "\n",
      "Career track 2:\n",
      "Expected Utility: 2\n",
      "Average Realized Utility: 2.0197937730265703\n",
      "\n",
      "Career track 3:\n",
      "Expected Utility: 3\n",
      "Average Realized Utility: 2.95081189212922\n",
      "\n"
     ]
    }
   ],
   "source": [
    "import numpy as np\n",
    "from types import SimpleNamespace\n",
    "\n",
    "# Initialize parameters\n",
    "par = SimpleNamespace()\n",
    "par.J = 3\n",
    "par.N = 10\n",
    "par.K = 10000\n",
    "\n",
    "par.sigma = 2\n",
    "par.v = np.array([1, 2, 3])\n",
    "par.c = 1\n",
    "\n",
    "# Simulate epsilon values for each career track and each draw\n",
    "epsilon = np.random.normal(0, par.sigma, (par.J, par.K))\n",
    "\n",
    "# Calculate realized utility for each draw\n",
    "realized_utilities = par.v[:, np.newaxis] + epsilon\n",
    "\n",
    "# Calculate the average realized utility for each career track\n",
    "average_realized_utilities = np.mean(realized_utilities, axis=1)\n",
    "\n",
    "# Display results\n",
    "for j in range(par.J):\n",
    "    print(f\"Career track {j+1}:\")\n",
    "    print(f\"Expected Utility: {par.v[j]}\")\n",
    "    print(f\"Average Realized Utility: {average_realized_utilities[j]}\\n\")\n"
   ]
  },
  {
   "cell_type": "markdown",
   "metadata": {},
   "source": [
    "Now consider a new scenario: Imagine that the graduate does not know $v_j$. The *only* prior information they have on the value of each job, comes from their $F_{i}$ friends that work in each career $j$. After talking with them, they know the average utility of their friends (which includes their friends' noise term), giving them the prior expecation: <br>\n",
    "$$\n",
    "\\tilde{u}^k_{i,j}\\left( F_{i}\\right) = \\frac{1}{F_{i}}\\sum_{f=1}^{F_{i}} \\left(v_{j} + \\epsilon^k_{f,j}\\right), \\; \\epsilon^k_{f,j}\\sim \\mathcal{N}(0,\\sigma^2)\n",
    "$$\n",
    "For ease of notation consider that each graduate have $F_{i}=i$ friends in each career. <br>"
   ]
  },
  {
   "cell_type": "markdown",
   "metadata": {},
   "source": [
    "For $K$ times do the following: <br>\n",
    "1. For each person $i$ draw $J\\cdot F_i$ values of $\\epsilon_{f,j}^{k}$, and calculate the prior expected utility of each career track, $\\tilde{u}^k_{i,j}\\left( F_{i}\\right)$. <br>\n",
    "Also draw their own $J$ noise terms, $\\epsilon_{i,j}^k$\n",
    "1. Each person $i$ chooses the career track with the highest expected utility: $$j_i^{k*}= \\arg\\max_{j\\in{1,2\\dots,J}}\\left\\{ \\tilde{u}^k_{i,j}\\left( F_{i}\\right)\\right\\} $$\n",
    "1. Store the chosen careers: $j_i^{k*}$, the prior expectation of the value of their chosen career: $\\tilde{u}^k_{i,j=j_i^{k*}}\\left( F_{i}\\right)$, and the realized value of their chosen career track: $u^k_{i,j=j_i^{k*}}=v_{j=j_i^{k*}}+\\epsilon_{i,j=j_i^{k*}}^k$."
   ]
  },
  {
   "cell_type": "markdown",
   "metadata": {},
   "source": [
    "Chosen values will be: <br>\n",
    "$i\\in\\left\\{1,2\\dots,N\\right\\}, N=10$ <br>\n",
    "$F_i = i$<br>\n",
    "So there are 10 graduates. The first has 1 friend in each career, the second has 2 friends, ... the tenth has 10 friends."
   ]
  },
  {
   "cell_type": "markdown",
   "metadata": {},
   "source": [
    "**Question 2:** Simulate and visualize: For each type of graduate, $i$, the share of graduates choosing each career, the average subjective expected utility of the graduates, and the average ex post realized utility given their choice. <br>\n",
    "That is, calculate and visualize: <br>\n",
    "$$\n",
    "\\begin{align*}\n",
    "    \\frac{1}{K} \\sum_{k=1}^{K} \\mathbb{I}\\left\\{ j=j_i^{k*} \\right\\}  \\;\\forall j\\in\\left\\{1,2,\\dots,J\\right\\}\n",
    "\\end{align*}\n",
    "$$\n",
    "$$\n",
    "\\begin{align*}\n",
    "    \\frac{1}{K} \\sum_{k=1}^{K} \\tilde{u}^k_{ij=j_i^{k*}}\\left( F_{i}\\right)\n",
    "\\end{align*}\n",
    "$$\n",
    "And \n",
    "$$\n",
    "\\begin{align*}\n",
    "    \\frac{1}{K} \\sum_{k=1}^{K} u^k_{ij=j_i^{k*}} \n",
    "\\end{align*}\n",
    "$$\n",
    "For each graduate $i$."
   ]
  },
  {
   "cell_type": "code",
   "execution_count": null,
   "metadata": {},
   "outputs": [],
   "source": []
  },
  {
   "cell_type": "code",
   "execution_count": 16,
   "metadata": {},
   "outputs": [
    {
     "data": {
      "image/png": "[encoded data removed]",
      "text/plain": [
       "<Figure size 1000x1500 with 3 Axes>"
      ]
     },
     "metadata": {},
     "output_type": "display_data"
    }
   ],
   "source": [
    "# Initialize storage for results\n",
    "career_choices = np.zeros((par.N, par.K), dtype=int)\n",
    "prior_expected_utilities = np.zeros((par.N, par.K))\n",
    "realized_utilities = np.zeros((par.N, par.K))\n",
    "\n",
    "# Simulation\n",
    "for k in range(par.K):\n",
    "    for i in range(par.N):\n",
    "        Fi = i + 1\n",
    "        epsilon_friends = np.random.normal(0, par.sigma, (par.J, Fi))\n",
    "        prior_expectation = par.v[:, np.newaxis] + epsilon_friends\n",
    "        prior_expected_utility = np.mean(prior_expectation, axis=1)\n",
    "\n",
    "        epsilon_self = np.random.normal(0, par.sigma, par.J)\n",
    "        realized_utility = par.v + epsilon_self\n",
    "\n",
    "        best_career = np.argmax(prior_expected_utility)\n",
    "        \n",
    "        career_choices[i, k] = best_career\n",
    "        prior_expected_utilities[i, k] = prior_expected_utility[best_career]\n",
    "        realized_utilities[i, k] = realized_utility[best_career]\n",
    "\n",
    "# Calculate shares, average subjective expected utility, and average realized utility\n",
    "career_shares = np.zeros((par.N, par.J))\n",
    "avg_prior_expected_utilities = np.zeros(par.N)\n",
    "avg_realized_utilities = np.zeros(par.N)\n",
    "\n",
    "for i in range(par.N):\n",
    "    for j in range(par.J):\n",
    "        career_shares[i, j] = np.mean(career_choices[i, :] == j)\n",
    "    avg_prior_expected_utilities[i] = np.mean(prior_expected_utilities[i, :])\n",
    "    avg_realized_utilities[i] = np.mean(realized_utilities[i, :])\n",
    "\n",
    "# Plotting the results\n",
    "fig, axs = plt.subplots(3, 1, figsize=(10, 15))\n",
    "\n",
    "# Share of graduates choosing each career\n",
    "for j in range(par.J):\n",
    "    axs[0].plot(range(1, par.N + 1), career_shares[:, j], label=f'Career {j+1}')\n",
    "axs[0].set_xlabel('Graduate i')\n",
    "axs[0].set_ylabel('Share Choosing Career')\n",
    "axs[0].set_title('Figure 1: Share of Graduates Choosing Each Career')\n",
    "axs[0].legend()\n",
    "\n",
    "# Average subjective expected utility\n",
    "axs[1].plot(range(1, par.N + 1), avg_prior_expected_utilities, marker='o')\n",
    "axs[1].set_xlabel('Graduate i')\n",
    "axs[1].set_ylabel('Average Subjective Expected Utility')\n",
    "axs[1].set_title('Figure 2: Average Subjective Expected Utility of Chosen Career')\n",
    "\n",
    "# Average realized utility\n",
    "axs[2].plot(range(1, par.N + 1), avg_realized_utilities, marker='o')\n",
    "axs[2].set_xlabel('Graduate i')\n",
    "axs[2].set_ylabel('Average Realized Utility')\n",
    "axs[2].set_title('Figure 3: Average Realized Utility of Chosen Career')\n",
    "\n",
    "plt.tight_layout()\n",
    "plt.show()\n"
   ]
  },
  {
   "cell_type": "markdown",
   "metadata": {},
   "source": []
  },
  {
   "cell_type": "markdown",
   "metadata": {},
   "source": [
    "After a year of working in their career, the graduates learn $u^k_{ij}$ for their chosen job $j_i^{k*}$ perfectly. <br>\n",
    "The can switch to one of the two remaining careers, for which they have the same prior as before, but it will now include a switching cost of $c$ which is known.\n",
    "Their new priors can be written as: \n",
    "$$\n",
    "\\tilde{u}^{k,2}_{ij}\\left( F_{i}\\right) = \\begin{cases}\n",
    "            \\tilde{u}^k_{ij}\\left( F_{i}\\right)-c & \\text{if } j \\neq j_i^{k*} \\\\\n",
    "            u_{ij=j_i^{k*}} & \\text{if } j = j_i^{k*}\n",
    "        \\end{cases}\n",
    "$$"
   ]
  },
  {
   "cell_type": "markdown",
   "metadata": {},
   "source": [
    "We will set $c=1$."
   ]
  },
  {
   "cell_type": "markdown",
   "metadata": {},
   "source": [
    "Their realized utility will be: <br>\n",
    "$$\n",
    "u^{k,2}_{ij}= \\begin{cases}\n",
    "            u_{ij}^k -c & \\text{if } j \\neq j_i^{k*} \\\\\n",
    "            u_{ij=j_i^{k*}} & \\text{if } j = j_i^{k*}\n",
    "        \\end{cases}\n",
    "$$"
   ]
  },
  {
   "cell_type": "markdown",
   "metadata": {},
   "source": [
    "**Question 3:** Following the same approach as in question 2, find the new optimal career choice for each $i$, $k$. Then for each $i$, calculate the average subjective expected utility from their new optimal career choice, and the ex post realized utility of that career. Also, for each $i$, calculate the share of graduates that chooses to switch careers, conditional on which career they chose in the first year. <br>"
   ]
  },
  {
   "cell_type": "code",
   "execution_count": 17,
   "metadata": {},
   "outputs": [],
   "source": [
    "# write your answer here"
   ]
  },
  {
   "cell_type": "markdown",
   "metadata": {},
   "source": [
    "## 3. <a id='toc3_'></a>[Problem 3: Barycentric interpolation](#toc0_)"
   ]
  },
  {
   "cell_type": "markdown",
   "metadata": {},
   "source": [
    "**Problem:** We have a set of random points in the unit square,\n",
    "\n",
    "$$\n",
    "\\mathcal{X} = \\{(x_1,x_2)\\,|\\,x_1\\sim\\mathcal{U}(0,1),x_2\\sim\\mathcal{U}(0,1)\\}.\n",
    "$$\n",
    "\n",
    "For these points, we know the value of some function $f(x_1,x_2)$,\n",
    "\n",
    "$$\n",
    "\\mathcal{F} = \\{f(x_1,x_2) \\,|\\, (x_1,x_2) \\in \\mathcal{X}\\}.\n",
    "$$\n",
    "\n",
    "Now we want to approximate the value $f(y_1,y_2)$ for some  $y=(y_1,y_2)$, where $y_1\\sim\\mathcal{U}(0,1)$ and $y_2\\sim\\mathcal{U}(0,1)$.\n",
    "\n",
    "**Building block I**\n",
    "\n",
    "For an arbitrary triangle $ABC$ and a point $y$, define the so-called barycentric coordinates as:\n",
    "\n",
    "$$\n",
    "\\begin{align*}\n",
    "  r^{ABC}_1 &= \\frac{(B_2-C_2)(y_1-C_1) + (C_1-B_1)(y_2-C_2)}{(B_2-C_2)(A_1-C_1) + (C_1-B_1)(A_2-C_2)} \\\\\n",
    "  r^{ABC}_2 &= \\frac{(C_2-A_2)(y_1-C_1) + (A_1-C_1)(y_2-C_2)}{(B_2-C_2)(A_1-C_1) + (C_1-B_1)(A_2-C_2)} \\\\\n",
    "  r^{ABC}_3 &= 1 - r_1 - r_2.\n",
    "\\end{align*}\n",
    "$$\n",
    "\n",
    "If $r^{ABC}_1 \\in [0,1]$, $r^{ABC}_2 \\in [0,1]$, and $r^{ABC}_3 \\in [0,1]$, then the point is inside the triangle.\n",
    "\n",
    "We always have $y = r^{ABC}_1 A + r^{ABC}_2 B + r^{ABC}_3 C$.\n",
    "\n",
    "**Building block II**\n",
    "\n",
    "Define the following points:\n",
    "\n",
    "$$\n",
    "\\begin{align*}\n",
    "A&=\\arg\\min_{(x_{1},x_{2})\\in\\mathcal{X}}\\sqrt{\\left(x_{1}-y_{1}\\right)^{2}+\\left(x_{2}-y_{2}\\right)^{2}}\\text{ s.t. }x_{1}>y_{1}\\text{ and }x_{2}>y_{2}\\\\\n",
    "B&=\\arg\\min_{(x_{1},x_{2})\\in\\mathcal{X}}\\sqrt{\\left(x_{1}-y_{1}\\right)^{2}+\\left(x_{2}-y_{2}\\right)^{2}}\\text{ s.t. }x_{1}>y_{1}\\text{ and }x_{2}<y_{2}\\\\\n",
    "C&=\\arg\\min_{(x_{1},x_{2})\\in\\mathcal{X}}\\sqrt{\\left(x_{1}-y_{1}\\right)^{2}+\\left(x_{2}-y_{2}\\right)^{2}}\\text{ s.t. }x_{1}<y_{1}\\text{ and }x_{2}<y_{2}\\\\\n",
    "D&=\\arg\\min_{(x_{1},x_{2})\\in\\mathcal{X}}\\sqrt{\\left(x_{1}-y_{1}\\right)^{2}+\\left(x_{2}-y_{2}\\right)^{2}}\\text{ s.t. }x_{1}<y_{1}\\text{ and }x_{2}>y_{2}.\n",
    "\\end{align*}\n",
    "$$\n",
    "\n",
    "**Algorithm:**\n",
    "\n",
    "1. Compute $A$, $B$, $C$, and $D$. If not possible return `NaN`.\n",
    "1. If $y$ is inside the triangle $ABC$ return $r^{ABC}_1 f(A) + r^{ABC}_2 f(B) + r^{ABC}_3 f(C)$.\n",
    "1. If $y$ is inside the triangle $CDA$ return $r^{CDA}_1 f(C) + r^{CDA}_2 f(D) + r^{CDA}_3 f(A)$.\n",
    "1. Return `NaN`.\n",
    "\n"
   ]
  },
  {
   "cell_type": "markdown",
   "metadata": {},
   "source": [
    "**Sample:**"
   ]
  },
  {
   "cell_type": "code",
   "execution_count": 18,
   "metadata": {},
   "outputs": [],
   "source": [
    "rng = np.random.default_rng(2024)\n",
    "\n",
    "X = rng.uniform(size=(50,2))\n",
    "y = rng.uniform(size=(2,))\n"
   ]
  },
  {
   "cell_type": "markdown",
   "metadata": {},
   "source": [
    "**Questions 1:** Find $A$, $B$, $C$ and $D$. Illustrate these together with $X$, $y$ and the triangles $ABC$ and $CDA$."
   ]
  },
  {
   "cell_type": "code",
   "execution_count": 19,
   "metadata": {},
   "outputs": [],
   "source": [
    "# write your answer here"
   ]
  },
  {
   "cell_type": "markdown",
   "metadata": {},
   "source": [
    "**Question 2:** Compute the barycentric coordinates of the point $y$ with respect to the triangles $ABC$ and $CDA$. Which triangle is $y$ located inside?"
   ]
  },
  {
   "cell_type": "code",
   "execution_count": 20,
   "metadata": {},
   "outputs": [],
   "source": [
    "# write your answer here"
   ]
  },
  {
   "cell_type": "markdown",
   "metadata": {},
   "source": [
    "Now consider the function:\n",
    "$$\n",
    "f(x_1,x_2) = x_1 \\cdot x_2\n",
    "$$"
   ]
  },
  {
   "cell_type": "code",
   "execution_count": 21,
   "metadata": {},
   "outputs": [],
   "source": [
    "f = lambda x: x[0]*x[1]\n",
    "F = np.array([f(x) for x in X])"
   ]
  },
  {
   "cell_type": "markdown",
   "metadata": {},
   "source": [
    "**Question 3:** Compute the approximation of $f(y)$ using the full algorithm. Compare with the true value."
   ]
  },
  {
   "cell_type": "code",
   "execution_count": 22,
   "metadata": {},
   "outputs": [],
   "source": [
    "# write your answer here"
   ]
  },
  {
   "cell_type": "markdown",
   "metadata": {},
   "source": [
    "**Question 4:** Repeat question 3 for all points in the set $Y$."
   ]
  },
  {
   "cell_type": "code",
   "execution_count": 23,
   "metadata": {},
   "outputs": [],
   "source": [
    "Y = [(0.2,0.2),(0.8,0.2),(0.8,0.8),(0.8,0.2),(0.5,0.5)]"
   ]
  },
  {
   "cell_type": "code",
   "execution_count": 24,
   "metadata": {},
   "outputs": [],
   "source": [
    "# write your answer here"
   ]
  }
 ],
 "metadata": {
  "kernelspec": {
   "display_name": "base",
   "language": "python",
   "name": "python3"
  },
  "language_info": {
   "codemirror_mode": {
    "name": "ipython",
    "version": 3
   },
   "file_extension": ".py",
   "mimetype": "text/x-python",
   "name": "python",
   "nbconvert_exporter": "python",
   "pygments_lexer": "ipython3",
   "version": "3.11.7"
  }
 },
 "nbformat": 4,
 "nbformat_minor": 2
}
