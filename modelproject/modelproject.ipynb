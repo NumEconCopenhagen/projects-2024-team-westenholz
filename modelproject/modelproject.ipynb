{
 "cells": [
  {
   "cell_type": "markdown",
   "metadata": {},
   "source": [
    "# YOUR PROJECT TITLE"
   ]
  },
  {
   "attachments": {},
   "cell_type": "markdown",
   "metadata": {},
   "source": [
    "> **Note the following:** \n",
    "> 1. This is *not* meant to be an example of an actual **model analysis project**, just an example of how to structure such a project.\n",
    "> 1. Remember the general advice on structuring and commenting your code\n",
    "> 1. The `modelproject.py` file includes a function which could be used multiple times in this notebook."
   ]
  },
  {
   "cell_type": "markdown",
   "metadata": {},
   "source": [
    "Imports and set magics:"
   ]
  },
  {
   "cell_type": "code",
   "execution_count": 2,
   "metadata": {},
   "outputs": [],
   "source": [
    "import numpy as np\n",
    "from scipy import optimize\n",
    "import sympy as sm\n",
    "from IPython.display import display, Math\n",
    "\n",
    "# autoreload modules when code is run\n",
    "%load_ext autoreload\n",
    "%autoreload 2\n",
    "\n",
    "# local modules\n",
    "import modelproject"
   ]
  },
  {
   "cell_type": "markdown",
   "metadata": {},
   "source": [
    "# Model description"
   ]
  },
  {
   "cell_type": "markdown",
   "metadata": {},
   "source": [
    "**Write out the model in equations here.** \n",
    "\n",
    "Make sure you explain well the purpose of the model and comment so that other students who may not have seen it before can follow.  "
   ]
  },
  {
   "cell_type": "markdown",
   "metadata": {},
   "source": [
    "The **monopoly pricing model** is a basic model in microeconomics. We look at a monopoly on a market, looking to maximize their own profit. Given the demand for the consumers of the market, the monopoly can set a quantity which implies a ceratin price for the quantity sold, all adding up to the biggest profit possible.\n",
    "\n",
    "First, we consider the **basic monopoly pricing model**:\n",
    "\n",
    "1. $P$ is the price set by the monopolist.\n",
    "2. $Q$ is the quantity demanded at price P.\n",
    "3. $C(Q)$ is the cost function dependens on the quantity produced.\n",
    "\n",
    "Thereby, the **demand function** is ***linear*** and given by:\n",
    "$$Q=a-bP$$\n",
    "\n",
    "Where a is the maximum quantity that could be sold at P=0 while b can be interpreted as the sensititivy of the the quantity demanded to changes in price. The inverse is therefore:\n",
    "$$P(Q)=\\frac{1}{b}(a-Q)$$\n",
    "\n",
    "Furthermore, the **cost function** is ***linear*** and given by:\n",
    "$$C(Q) = cQ+F$$\n",
    "\n",
    "Where c is the variable cost per unit of production and F is the fixed cost.\n",
    "\n",
    "Funally, the **Revenue** is given by:\n",
    "$$TR(Q) = P(Q) \\cdot Q$$\n",
    "\n",
    "Thereby, the **Profit** is given by:\n",
    "$$\\pi (Q) = TR(Q)-C(Q)$$\n"
   ]
  },
  {
   "cell_type": "markdown",
   "metadata": {},
   "source": [
    "## Analytical solution"
   ]
  },
  {
   "cell_type": "markdown",
   "metadata": {},
   "source": [
    "If your model allows for an analytical solution, you should provide here.\n",
    "\n",
    "You may use Sympy for this. Then you can characterize the solution as a function of a parameter of the model.\n",
    "\n",
    "To characterize the solution, first derive a steady state equation as a function of a parameter using Sympy.solve and then turn it into a python function by Sympy.lambdify. See the lecture notes for details. "
   ]
  },
  {
   "cell_type": "markdown",
   "metadata": {},
   "source": [
    "First, i start off by solving the model analytically using *sumpy*:\n"
   ]
  },
  {
   "cell_type": "code",
   "execution_count": 20,
   "metadata": {},
   "outputs": [
    {
     "data": {
      "text/latex": [
       "$\\displaystyle - F - c \\left(\\frac{a}{2} - \\frac{b c}{2}\\right) + \\frac{\\left(\\frac{a}{2} - \\frac{b c}{2}\\right) \\left(\\frac{a}{2} + \\frac{b c}{2}\\right)}{b}$"
      ],
      "text/plain": [
       "-F - c*(a/2 - b*c/2) + (a/2 - b*c/2)*(a/2 + b*c/2)/b"
      ]
     },
     "execution_count": 20,
     "metadata": {},
     "output_type": "execute_result"
    }
   ],
   "source": [
    "# Define the symbols\n",
    "Q = sm.symbols('Q')\n",
    "a, b, c, F = sm.symbols('a b c F')\n",
    "pi_symbol = sm.symbols('pi')\n",
    "\n",
    "# Define the inverse demand function\n",
    "P = (a - Q) / b\n",
    "\n",
    "# Define the cost function\n",
    "C = c * Q + F\n",
    "\n",
    "# Define the revenue function\n",
    "TR = P * Q\n",
    "\n",
    "# Define the profit function\n",
    "profit = TR - C\n",
    "\n",
    "# Create an equation for the first-order condition by differentiating the profit function with respect to Q\n",
    "profit_eq = sm.Eq(sm.diff(profit, Q), 0)\n",
    "\n",
    "# Solve the first-order condition for Q to find the quantity that maximizes profit\n",
    "Q_star = sm.solve(profit_eq, Q)[0]\n",
    "\n",
    "# Calculate the optimal price by substituting Q_star into the inverse demand function\n",
    "P_star = P.subs(Q, Q_star)\n",
    "\n",
    "# Calculate the optimal profit by substituting Q_star into the profit function\n",
    "profit_star = profit.subs(Q, Q_star)\n",
    "\n",
    "profit_star"
   ]
  },
  {
   "cell_type": "code",
   "execution_count": 21,
   "metadata": {},
   "outputs": [
    {
     "name": "stdout",
     "output_type": "stream",
     "text": [
      "Optimal Quantity: 45\n",
      "Optimal Price: 55/2\n",
      "Optimal Profit: 2005/2\n"
     ]
    }
   ],
   "source": [
    "# Example usage with actual parameters\n",
    "a_value = 100  # Total potential market\n",
    "b_value = 2    # Price sensitivity\n",
    "c_value = 5    # Cost per unit\n",
    "F_value = 10   # Fixed cost\n",
    "\n",
    "# Calculate optimal values using the specified parameters\n",
    "optimal_quantity = Q_star.subs({a: a_value, b: b_value, c: c_value, F: F_value})\n",
    "optimal_price = P_star.subs({a: a_value, b: b_value, c: c_value, F: F_value})\n",
    "optimal_profit = profit_star.subs({a: a_value, b: b_value, c: c_value, F: F_value})\n",
    "\n",
    "print(f'Optimal Quantity: {optimal_quantity}')\n",
    "print(f'Optimal Price: {optimal_price}')\n",
    "print(f'Optimal Profit: {optimal_profit}')"
   ]
  },
  {
   "cell_type": "markdown",
   "metadata": {},
   "source": [
    "I make a function where i turn my functions *Q_star*, *P_star* and *profit_star* into python functions using `lambdify` and then print $Q^*$, $P^*$ and $\\pi^*$ :"
   ]
  },
  {
   "cell_type": "code",
   "execution_count": 4,
   "metadata": {},
   "outputs": [],
   "source": [
    "ss_Q = sm.lambdify((a, b, c), Q_star, \"numpy\")\n",
    "ss_P = sm.lambdify((a, b, c), P_star, \"numpy\")\n",
    "ss_profit = sm.lambdify((a, b, c, F), profit_star, \"numpy\")\n",
    "\n",
    "def optimum(a,b,c, F):\n",
    "    #We make the python functions:\n",
    "    optimal_Q = ss_Q(a, b, c)\n",
    "    optimal_P = ss_P(a, b, c)\n",
    "    optimal_profit = ss_profit(a, b, c, F)\n",
    "    \n",
    "    # Print the results formatted as requested\n",
    "    print(\"Optimal quantity Q is equal to: {:.2f}\".format(optimal_Q))\n",
    "    print(\"Optimal price P is equal to: {:.2f}\".format(optimal_P))\n",
    "    print(f\"Optimal profit \\u03C0 is equal to: {optimal_profit:.2f}\")"
   ]
  },
  {
   "cell_type": "markdown",
   "metadata": {},
   "source": [
    "## Numerical solution"
   ]
  },
  {
   "cell_type": "markdown",
   "metadata": {},
   "source": [
    "You can always solve a model numerically. \n",
    "\n",
    "Define first the set of parameters you need. \n",
    "\n",
    "Then choose one of the optimization algorithms that we have gone through in the lectures based on what you think is most fitting for your model.\n",
    "\n",
    "Are there any problems with convergence? Does the model converge for all starting values? Make a lot of testing to figure these things out. "
   ]
  },
  {
   "cell_type": "markdown",
   "metadata": {},
   "source": [
    "# **VI MANGLER NUMMERISK LØSNING. ANER IKKE HVORDAN MAN GØR DET, VI MÅ SPØRGE JONATHAN**\n",
    "OG SÅ SYNES JEG FAKTISK OGSÅ DET KUNNE VÆRE RET FLEX AT LAVE ET STANDARD MR, MC OG AC"
   ]
  },
  {
   "cell_type": "markdown",
   "metadata": {},
   "source": [
    "# Further analysis"
   ]
  },
  {
   "cell_type": "markdown",
   "metadata": {},
   "source": [
    "# INTERACTIVE 3D PLOT OF Q, P AND PROFIT"
   ]
  },
  {
   "cell_type": "code",
   "execution_count": 5,
   "metadata": {},
   "outputs": [
    {
     "data": {
      "application/vnd.jupyter.widget-view+json": {
       "model_id": "648d2a64d50d4cbca41e9f3e2c5b4c78",
       "version_major": 2,
       "version_minor": 0
      },
      "text/plain": [
       "interactive(children=(FloatSlider(value=25.000000000000004, description='a', max=50.0, min=0.1), FloatSlider(v…"
      ]
     },
     "execution_count": 5,
     "metadata": {},
     "output_type": "execute_result"
    }
   ],
   "source": [
    "import matplotlib.pyplot as plt\n",
    "from mpl_toolkits.mplot3d import Axes3D\n",
    "from ipywidgets import interactive\n",
    "\n",
    "def plot_optimal_values(a, b, c, F):\n",
    "    optimal_Q = ss_Q(a, b, c)\n",
    "    optimal_P = ss_P(a, b, c)\n",
    "    optimal_profit = ss_profit(a, b, c, F)\n",
    "    \n",
    "    fig = plt.figure()\n",
    "    ax = fig.add_subplot(111, projection='3d')\n",
    "    \n",
    "    # Set fixed limits for each axis\n",
    "    ax.set_xlim(0, 20)  # Adjust the limits as needed\n",
    "    ax.set_ylim(0, 20)  # Adjust the limits as needed\n",
    "    ax.set_zlim(-50, 50)  # Adjust the limits as needed\n",
    "    \n",
    "    ax.scatter(optimal_Q, optimal_P, optimal_profit, color='r')\n",
    "    \n",
    "    # Plot lines from the red dot to each axis\n",
    "    ax.plot([optimal_Q, optimal_Q], [0, optimal_P], [optimal_profit, optimal_profit], color='b', linestyle='--')  # Line to x-axis\n",
    "    ax.plot([0, optimal_Q], [optimal_P, optimal_P], [optimal_profit, optimal_profit], color='g', linestyle='--')  # Line to y-axis\n",
    "    ax.plot([optimal_Q, optimal_Q], [optimal_P, optimal_P], [0, optimal_profit], color='purple', linestyle='--')  # Line to z-axis\n",
    "    \n",
    "    # Annotate the plot with axis values\n",
    "    ax.text(optimal_Q, 0, 0, f'Q: {optimal_Q:.2f}', color='b', fontsize=10)\n",
    "    ax.text(0, optimal_P, 0, f'P: {optimal_P:.2f}', color='g', fontsize=10)\n",
    "    ax.text(0, 0, optimal_profit, f'π: {optimal_profit:.2f}', color='purple', fontsize=10)\n",
    "    \n",
    "    ax.set_xlabel('Optimal Quantity (Q)')\n",
    "    ax.set_ylabel('Optimal Price (P)')\n",
    "    ax.set_zlabel('Optimal Profit (π)')\n",
    "    \n",
    "    plt.title('3D View of Optimal Q, P, and π')\n",
    "    plt.show()\n",
    "\n",
    "# Set up interactive widgets\n",
    "interactive_plot = interactive(plot_optimal_values, a=(0.1, 50.0, 0.1), b=(0.1, 5.0, 0.1), c=(0.1, 5.0, 0.1), F=(0.1, 50.0, 0.1))\n",
    "interactive_plot\n"
   ]
  },
  {
   "cell_type": "markdown",
   "metadata": {},
   "source": [
    "# FURTHER ANALYSIS 1: ALTERNATIVE DEMAND AND COST FUNCTIONS"
   ]
  },
  {
   "cell_type": "markdown",
   "metadata": {},
   "source": [
    "When solving the model, we implied the most basic versions of demand and cost functions. Therefore, the results are also pretty easy to interpret and solve. Because of that, we will try to change the analysis by implementing an exponential demand function and a quadratic cost function:\n",
    "\n",
    "1. **Exponential Demand Function**:\n",
    "   $$\n",
    "   Q = a \\cdot e^{-bP}\n",
    "   $$\n",
    "   Here, $a$ is the maximum potential demand when the price $P$ is very low, and $b$ represents the sensitivity of the quantity demanded to changes in price.\n",
    "\n",
    "2. **Inverse Demand Function**:\n",
    "   $$\n",
    "   P(Q) = -\\frac{1}{b} \\log\\left(\\frac{Q}{a}\\right)\n",
    "   $$\n",
    "   This function is derived by solving the exponential demand equation for $P$.\n",
    "\n",
    "3. **Quadratic Cost Function**:\n",
    "   $$\n",
    "   C(Q) = cQ + dQ^2 + F\n",
    "   $$\n",
    "   In this function, $c$ is the variable cost per unit, $d$ is the coefficient for the quadratic term indicating increasing marginal costs, and $F$ is the fixed cost.\n",
    "\n",
    "4. **Total Revenue (TR)**:\n",
    "   $$\n",
    "   TR(Q) = P(Q) \\cdot Q = \\left(-\\frac{1}{b} \\log\\left(\\frac{Q}{a}\\right)\\right) \\cdot Q\n",
    "   $$\n",
    "   This represents the total income received from selling $Q$ units at price $P(Q)$.\n",
    "\n",
    "5. **Profit Function**:\n",
    "   $$\n",
    "   \\pi(Q) = TR(Q) - C(Q) = \\left(-\\frac{1}{b} \\log\\left(\\frac{Q}{a}\\right)\\right) \\cdot Q - (cQ + dQ^2 + F)\n",
    "   $$\n",
    "   Profit is calculated by subtracting the total cost from the total revenue.\n"
   ]
  },
  {
   "cell_type": "code",
   "execution_count": 22,
   "metadata": {},
   "outputs": [
    {
     "name": "stdout",
     "output_type": "stream",
     "text": [
      "Optimal quantity Q is equal to: 9.03767848889575\n",
      "Optimal price P is equal to: 24.0376784888958\n",
      "Optimal profit π is equal to: 121.216601123282\n"
     ]
    }
   ],
   "source": [
    "import sympy as sm\n",
    "\n",
    "def solve_model(a, b, c, d, F):\n",
    "    # Define symbols\n",
    "    Q = sm.symbols('Q')\n",
    "    \n",
    "    # Exponential demand function\n",
    "    P = -sm.log(Q/a) / b\n",
    "    \n",
    "    # Quadratic cost function\n",
    "    C = c * Q + d * Q**2 + F\n",
    "    \n",
    "    # Revenue function\n",
    "    TR = P * Q\n",
    "    \n",
    "    # Profit function\n",
    "    profit = TR - C\n",
    "    \n",
    "    # First-order condition: differentiate profit with respect to Q and set to 0\n",
    "    profit_eq = sm.Eq(sm.diff(profit, Q), 0)\n",
    "    \n",
    "    # Solve the first-order condition for Q to find the quantity that maximizes profit\n",
    "    Q_star = sm.solve(profit_eq, Q)[0]\n",
    "    \n",
    "    # Calculate the optimal price by substituting Q_star into the inverse demand function\n",
    "    P_star = P.subs(Q, Q_star)\n",
    "    \n",
    "    # Calculate the optimal profit by substituting Q_star into the profit function\n",
    "    profit_star = profit.subs(Q, Q_star)\n",
    "\n",
    "    # Print the results\n",
    "    print(\"Optimal quantity Q is equal to:\", Q_star.evalf())\n",
    "    print(\"Optimal price P is equal to:\", P_star.evalf())\n",
    "    print(\"Optimal profit π is equal to:\", profit_star.evalf())\n",
    "    \n",
    "    return Q_star.evalf(), P_star.evalf(), profit_star.evalf()\n",
    "\n",
    "# Example usage with specified parameters\n",
    "a_value = 100  # Maximum potential demand when P is very low\n",
    "b_value = 0.1  # Sensitivity of the quantity demanded to changes in price\n",
    "c_value = 5    # Variable cost per unit\n",
    "d_value = 0.5  # Coefficient for the quadratic term in cost function\n",
    "F_value = 10   # Fixed cost\n",
    "\n",
    "# Calculate optimal values using specified parameters\n",
    "optimal_quantity, optimal_price, optimal_profit = solve_model(a_value, b_value, c_value, d_value, F_value)\n"
   ]
  },
  {
   "cell_type": "markdown",
   "metadata": {},
   "source": [
    "# INTERACTIVE 3D PLOT OF Q, P AND PROFIT"
   ]
  },
  {
   "cell_type": "code",
   "execution_count": 11,
   "metadata": {},
   "outputs": [
    {
     "data": {
      "application/vnd.jupyter.widget-view+json": {
       "model_id": "60e049fb5d7a4002b70050d17491962f",
       "version_major": 2,
       "version_minor": 0
      },
      "text/plain": [
       "interactive(children=(FloatSlider(value=49.1, description='a', min=0.1, step=1.0), FloatSlider(value=0.25, des…"
      ]
     },
     "execution_count": 11,
     "metadata": {},
     "output_type": "execute_result"
    }
   ],
   "source": [
    "import matplotlib.pyplot as plt\n",
    "from mpl_toolkits.mplot3d import Axes3D\n",
    "from ipywidgets import interactive\n",
    "\n",
    "def plot_optimal_values(a, b, c, d, F):\n",
    "    # Adjust this function to retrieve your calculated values\n",
    "    Q_star, P_star, profit_star = solve_model(a, b, c, d, F)\n",
    "    \n",
    "    fig = plt.figure()\n",
    "    ax = fig.add_subplot(111, projection='3d')\n",
    "    \n",
    "    # Set fixed limits for each axis, adjust as necessary\n",
    "    ax.set_xlim(0, 50)\n",
    "    ax.set_ylim(0, 50)\n",
    "    ax.set_zlim(0, 500)\n",
    "    \n",
    "    ax.scatter(Q_star, P_star, profit_star, color='r', s=100)\n",
    "    \n",
    "    # Plot lines from the red dot to each axis\n",
    "    ax.plot([Q_star, Q_star], [0, P_star], [profit_star, profit_star], color='b', linestyle='--')  # Line to x-axis\n",
    "    ax.plot([0, Q_star], [P_star, P_star], [profit_star, profit_star], color='g', linestyle='--')  # Line to y-axis\n",
    "    ax.plot([Q_star, Q_star], [P_star, P_star], [0, profit_star], color='purple', linestyle='--')  # Line to z-axis\n",
    "    \n",
    "    # Annotate the plot with axis values\n",
    "    ax.text(Q_star, 0, 0, f'Q: {Q_star:.2f}', color='b', fontsize=10)\n",
    "    ax.text(0, P_star, 0, f'P: {P_star:.2f}', color='g', fontsize=10)\n",
    "    ax.text(0, 0, profit_star, f'π: {profit_star:.2f}', color='purple', fontsize=10)\n",
    "    \n",
    "    ax.set_xlabel('Quantity (Q)')\n",
    "    ax.set_ylabel('Price (P)')\n",
    "    ax.set_zlabel('Profit (π)')\n",
    "    \n",
    "    ax.set_title('3D View of Optimal Q, P, and π')\n",
    "    \n",
    "    plt.show()\n",
    "\n",
    "# Set up interactive widgets\n",
    "interactive_plot = interactive(plot_optimal_values, \n",
    "                               a=(0.1, 100.0, 1), \n",
    "                               b=(0.05, 0.5, 0.05), \n",
    "                               c=(0.1, 10.0, 0.1), \n",
    "                               d=(0.01, 1.0, 0.1), \n",
    "                               F=(0.1, 100.0, 5))\n",
    "interactive_plot\n"
   ]
  },
  {
   "cell_type": "markdown",
   "metadata": {},
   "source": [
    "# **FURTHER ANALYSIS 2: DUOPOLY INSTEAD OF MONOPOLY**"
   ]
  },
  {
   "cell_type": "markdown",
   "metadata": {},
   "source": [
    "So far we have only considered a monopoly. But with if the markets consisted of two competitiors producing the same good?\n",
    "\n",
    "**Cournot Duopoly Model**\n",
    "\n",
    "1. Let $Q_1$ and $Q_2$ be the quantities produced by firm 1 and firm 2, respectively.\n",
    "2. Total quantity $Q$ in the market is $Q = Q_1 + Q_2$.\n",
    "3. The demand function is linear, as in the monopoly case:\n",
    "   $$\n",
    "   Q = a - bP\n",
    "   $$\n",
    "   Rearranged for price:\n",
    "   $$\n",
    "   P(Q) = \\frac{a - Q}{b} = \\frac{a - Q_1 - Q_2}{b}\n",
    "   $$\n",
    "\n",
    "4. Each firm has a similar cost structure:\n",
    "   - Firm 1: \n",
    "     $$\n",
    "     C_1(Q_1) = c_1Q_1 + F_1\n",
    "     $$\n",
    "   - Firm 2:\n",
    "     $$\n",
    "     C_2(Q_2) = c_2Q_2 + F_2\n",
    "     $$\n",
    "\n",
    "5. Revenues and profits for each firm are then calculated as:\n",
    "   - Firm 1:\n",
    "     $$\n",
    "     \\pi_1 = (P(Q) \\times Q_1) - C_1(Q_1)\n",
    "     $$\n",
    "   - Firm 2:\n",
    "     $$\n",
    "     \\pi_2 = (P(Q) \\times Q_2) - C_2(Q_2)\n",
    "     $$\n"
   ]
  },
  {
   "cell_type": "code",
   "execution_count": 31,
   "metadata": {},
   "outputs": [
    {
     "name": "stdout",
     "output_type": "stream",
     "text": [
      "Optimal Quantity for Firm 1: 30\n",
      "Optimal Quantity for Firm 2: 440\n",
      "Optimal Profit for Firm 1: 440\n",
      "Optimal Profit for Firm 2: 440\n",
      "\n",
      "------------------------------------------\n",
      "\n",
      "Overall quantatity for both Firms: 880\n",
      "Optimal Market Price: 20\n",
      "Overall profit for both Firms: 880\n"
     ]
    }
   ],
   "source": [
    "import sympy as sp\n",
    "\n",
    "def solve_duopoly(a, b, c1, c2, F1, F2):\n",
    "    # Define the quantities for both firms as symbolic variables\n",
    "    Q1, Q2 = sp.symbols('Q1 Q2')\n",
    "    \n",
    "    # Define the price as a function of the total quantity Q1 + Q2\n",
    "    P = (a - Q1 - Q2) / b\n",
    "    \n",
    "    # Define the cost functions for both firms\n",
    "    C1 = c1 * Q1 + F1\n",
    "    C2 = c2 * Q2 + F2\n",
    "    \n",
    "    # Define the profit functions for each firm\n",
    "    Profit1 = P * Q1 - C1\n",
    "    Profit2 = P * Q2 - C2\n",
    "    \n",
    "    # Set up the first-order conditions by differentiating profits with respect to quantities\n",
    "    dProfit1_dQ1 = sp.diff(Profit1, Q1)\n",
    "    dProfit2_dQ2 = sp.diff(Profit2, Q2)\n",
    "    \n",
    "    # Solve the first-order conditions to find the equilibrium quantities\n",
    "    equilibria = sp.solve([dProfit1_dQ1, dProfit2_dQ2], (Q1, Q2))\n",
    "    Q1_star, Q2_star = equilibria[Q1], equilibria[Q2]\n",
    "    \n",
    "    # Calculate the equilibrium price\n",
    "    P_star = (a - Q1_star - Q2_star) / b\n",
    "    \n",
    "    # Calculate the profits for each firm at the equilibrium quantities\n",
    "    profit1_star = P_star * Q1_star - (c1 * Q1_star + F1)\n",
    "    profit2_star = P_star * Q2_star - (c2 * Q2_star + F2)\n",
    "    \n",
    "    # Return the equilibrium quantities, price, and profits for both firms\n",
    "    return Q1_star, Q2_star, P_star, profit1_star, profit2_star\n",
    "\n",
    "# Example usage with given parameters\n",
    "a = 100  # Total potential market\n",
    "b = 2    # Price sensitivity\n",
    "c1 = 5   # Cost per unit for firm 1\n",
    "c2 = 5   # Cost per unit for firm 2\n",
    "F1 = 10  # Fixed cost for firm 1\n",
    "F2 = 10  # Fixed cost for firm 2\n",
    "\n",
    "# Calculate the equilibrium values\n",
    "optimal_Q1, optimal_Q2, optimal_P, optimal_profit1, optimal_profit2 = solve_duopoly(a, b, c1, c2, F1, F2)\n",
    "\n",
    "# Print the calculated optimal values\n",
    "print(f'Optimal Quantity for Firm 1: {optimal_Q1}')\n",
    "print(f'Optimal Quantity for Firm 2: {optimal_profit1}')\n",
    "print(f'Optimal Profit for Firm 1: {optimal_profit1}')\n",
    "print(f'Optimal Profit for Firm 2: {optimal_profit2}')\n",
    "print(f'')\n",
    "print(f'------------------------------------------')\n",
    "print(f'')\n",
    "print(f'Overall quantatity for both Firms: {optimal_profit1+optimal_profit1}')\n",
    "print(f'Optimal Market Price: {optimal_P}')\n",
    "print(f'Overall profit for both Firms: {optimal_profit1+optimal_profit2}')\n"
   ]
  },
  {
   "cell_type": "markdown",
   "metadata": {},
   "source": [
    "# INTERACTIVE 3D PLOT OF Q, P AND PROFIT"
   ]
  },
  {
   "cell_type": "code",
   "execution_count": 30,
   "metadata": {},
   "outputs": [
    {
     "data": {
      "application/vnd.jupyter.widget-view+json": {
       "model_id": "6b0b4b8dfa404da79e05d387359f6d16",
       "version_major": 2,
       "version_minor": 0
      },
      "text/plain": [
       "interactive(children=(FloatSlider(value=25.000000000000004, description='a', max=50.0, min=0.1), FloatSlider(v…"
      ]
     },
     "execution_count": 30,
     "metadata": {},
     "output_type": "execute_result"
    }
   ],
   "source": [
    "# Define the function that will be plotted\n",
    "def plot_duopoly_values(a, b, c1, c2, F1, F2):\n",
    "    Q1_star, Q2_star, P_star, profit1_star, profit2_star = solve_duopoly(a, b, c1, c2, F1, F2)\n",
    "    \n",
    "    fig = plt.figure()\n",
    "    ax = fig.add_subplot(111, projection='3d')\n",
    "    \n",
    "    # Set axis limits (adjust if necessary)\n",
    "    ax.set_xlim(0, 50)\n",
    "    ax.set_ylim(0, 50)\n",
    "    ax.set_zlim(0, 500)\n",
    "    \n",
    "    # Plot firm 1\n",
    "    ax.scatter(Q1_star, P_star, profit1_star, color='r', s=100, label='Firm 1')\n",
    "    ax.plot([Q1_star, Q1_star], [0, P_star], [profit1_star, profit1_star], color='b', linestyle='--')\n",
    "    ax.plot([0, Q1_star], [P_star, P_star], [profit1_star, profit1_star], color='g', linestyle='--')\n",
    "    ax.plot([Q1_star, Q1_star], [P_star, P_star], [0, profit1_star], color='purple', linestyle='--')\n",
    "    ax.text(Q1_star, 0, 0, f'Q1: {Q1_star:.2f}', color='b', fontsize=10)\n",
    "    ax.text(0, P_star, 0, f'P: {P_star:.2f}', color='g', fontsize=10)\n",
    "    ax.text(0, 0, profit1_star, f'π1: {profit1_star:.2f}', color='purple', fontsize=10)\n",
    "    \n",
    "    # Plot firm 2\n",
    "    ax.scatter(Q2_star, P_star, profit2_star, color='blue', s=100, label='Firm 2')\n",
    "    ax.plot([Q2_star, Q2_star], [0, P_star], [profit2_star, profit2_star], color='orange', linestyle='--')\n",
    "    ax.plot([0, Q2_star], [P_star, P_star], [profit2_star, profit2_star], color='cyan', linestyle='--')\n",
    "    ax.plot([Q2_star, Q2_star], [P_star, P_star], [0, profit2_star], color='magenta', linestyle='--')\n",
    "    ax.text(Q2_star, 0, 0, f'Q2: {Q2_star:.2f}', color='orange', fontsize=10)\n",
    "    ax.text(0, P_star, 0, f'P: {P_star:.2f}', color='cyan', fontsize=10)\n",
    "    ax.text(0, 0, profit2_star, f'π2: {profit2_star:.2f}', color='magenta', fontsize=10)\n",
    "    \n",
    "    ax.set_xlabel('Quantity (Q)')\n",
    "    ax.set_ylabel('Price (P)')\n",
    "    ax.set_zlabel('Profit (π)')\n",
    "    ax.legend()\n",
    "    ax.set_title('3D View of Optimal Q1, Q2, and Profits for Both Firms')\n",
    "    \n",
    "    plt.show()\n",
    "\n",
    "# Set up interactive widgets\n",
    "interactive_plot = interactive(plot_duopoly_values, a=(0.1, 50.0, 0.1), b=(0.1, 5.0, 0.1), c1=(0.1, 5.0, 0.1), c2=(0.1, 5.0, 0.1), F1=(0.1, 50.0, 0.1), F2=(0.1, 50.0, 0.1))\n",
    "interactive_plot"
   ]
  },
  {
   "cell_type": "markdown",
   "metadata": {},
   "source": [
    "# COMPARISON"
   ]
  },
  {
   "cell_type": "markdown",
   "metadata": {},
   "source": [
    "# Conclusion"
   ]
  },
  {
   "cell_type": "markdown",
   "metadata": {},
   "source": [
    "Add concise conclusion. "
   ]
  }
 ],
 "metadata": {
  "kernelspec": {
   "display_name": "base",
   "language": "python",
   "name": "python3"
  },
  "language_info": {
   "codemirror_mode": {
    "name": "ipython",
    "version": 3
   },
   "file_extension": ".py",
   "mimetype": "text/x-python",
   "name": "python",
   "nbconvert_exporter": "python",
   "pygments_lexer": "ipython3",
   "version": "3.11.7"
  },
  "toc-autonumbering": true,
  "vscode": {
   "interpreter": {
    "hash": "47ef90cdf3004d3f859f1fb202523c65c07ba7c22eefd261b181f4744e2d0403"
   }
  }
 },
 "nbformat": 4,
 "nbformat_minor": 4
}
