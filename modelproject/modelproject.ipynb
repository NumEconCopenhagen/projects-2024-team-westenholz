{
 "cells": [
  {
   "cell_type": "markdown",
   "metadata": {},
   "source": [
    "# YOUR PROJECT TITLE"
   ]
  },
  {
   "attachments": {},
   "cell_type": "markdown",
   "metadata": {},
   "source": [
    "> **Note the following:** \n",
    "> 1. This is *not* meant to be an example of an actual **model analysis project**, just an example of how to structure such a project.\n",
    "> 1. Remember the general advice on structuring and commenting your code\n",
    "> 1. The `modelproject.py` file includes a function which could be used multiple times in this notebook."
   ]
  },
  {
   "cell_type": "markdown",
   "metadata": {},
   "source": [
    "Imports and set magics:"
   ]
  },
  {
   "cell_type": "code",
   "execution_count": 1,
   "metadata": {},
   "outputs": [],
   "source": [
    "import numpy as np\n",
    "from scipy import optimize\n",
    "import sympy as sm\n",
    "from IPython.display import display, Math\n",
    "\n",
    "# autoreload modules when code is run\n",
    "%load_ext autoreload\n",
    "%autoreload 2\n",
    "\n",
    "# local modules\n",
    "import modelproject"
   ]
  },
  {
   "cell_type": "markdown",
   "metadata": {},
   "source": [
    "# Model description"
   ]
  },
  {
   "cell_type": "markdown",
   "metadata": {},
   "source": [
    "**Write out the model in equations here.** \n",
    "\n",
    "Make sure you explain well the purpose of the model and comment so that other students who may not have seen it before can follow.  "
   ]
  },
  {
   "cell_type": "markdown",
   "metadata": {},
   "source": [
    "The **monopoly pricing model** is a basic model in microeconomics. We look at a monopoly on a market, looking to maximize their own profit. Given the demand for the consumers of the market, the monopoly can set a quantity which implies a ceratin price for the quantity sold, all adding up to the biggest profit possible.\n",
    "\n",
    "First, we consider the **basic monopoly pricing model**:\n",
    "\n",
    "1. $P$ is the price set by the monopolist.\n",
    "2. $Q$ is the quantity demanded at price P.\n",
    "3. $C(Q)$ is the cost function dependens on the quantity produced.\n",
    "\n",
    "Thereby, the **demand function** is ***linear*** and given by:\n",
    "$$Q=a-bP$$\n",
    "\n",
    "Where a is the maximum quantity that could be sold at P=0 while b can be interpreted as the sensititivy of the the quantity demanded to changes in price. The inverse is therefore:\n",
    "$$P(Q)=\\frac{1}{b}(a-Q)$$\n",
    "\n",
    "Furthermore, the **cost function** is ***linear*** and given by:\n",
    "$$C(Q) = cQ+F$$\n",
    "\n",
    "Where c is the variable cost per unit of production and F is the fixed cost.\n",
    "\n",
    "Funally, the **Revenue** is given by:\n",
    "$$TR(Q) = P(Q) \\cdot Q$$\n",
    "\n",
    "Thereby, the **Profit** is given by:\n",
    "$$\\pi (Q) = TR(Q)-C(Q)$$\n"
   ]
  },
  {
   "cell_type": "markdown",
   "metadata": {},
   "source": [
    "## Analytical solution"
   ]
  },
  {
   "cell_type": "markdown",
   "metadata": {},
   "source": [
    "If your model allows for an analytical solution, you should provide here.\n",
    "\n",
    "You may use Sympy for this. Then you can characterize the solution as a function of a parameter of the model.\n",
    "\n",
    "To characterize the solution, first derive a steady state equation as a function of a parameter using Sympy.solve and then turn it into a python function by Sympy.lambdify. See the lecture notes for details. "
   ]
  },
  {
   "cell_type": "markdown",
   "metadata": {},
   "source": [
    "First, i start off by solving the model analytically using *sumpy*:\n"
   ]
  },
  {
   "cell_type": "code",
   "execution_count": 2,
   "metadata": {},
   "outputs": [
    {
     "data": {
      "text/latex": [
       "$\\displaystyle - F - c \\left(\\frac{a}{2} - \\frac{b c}{2}\\right) + \\frac{\\left(\\frac{a}{2} - \\frac{b c}{2}\\right) \\left(\\frac{a}{2} + \\frac{b c}{2}\\right)}{b}$"
      ],
      "text/plain": [
       "-F - c*(a/2 - b*c/2) + (a/2 - b*c/2)*(a/2 + b*c/2)/b"
      ]
     },
     "execution_count": 2,
     "metadata": {},
     "output_type": "execute_result"
    }
   ],
   "source": [
    "# Define the symbols\n",
    "Q = sm.symbols('Q')\n",
    "a, b, c, F = sm.symbols('a b c F')\n",
    "pi_symbol = sm.symbols('pi')\n",
    "\n",
    "# Define the inverse demand function\n",
    "P = (a - Q) / b\n",
    "\n",
    "# Define the cost function\n",
    "C = c * Q + F\n",
    "\n",
    "# Define the revenue function\n",
    "TR = P * Q\n",
    "\n",
    "# Define the profit function\n",
    "profit = TR - C\n",
    "\n",
    "# Create an equation for the first-order condition by differentiating the profit function with respect to Q\n",
    "profit_eq = sm.Eq(sm.diff(profit, Q), 0)\n",
    "\n",
    "# Solve the first-order condition for Q to find the quantity that maximizes profit\n",
    "Q_star = sm.solve(profit_eq, Q)[0]\n",
    "\n",
    "# Calculate the optimal price by substituting Q_star into the inverse demand function\n",
    "P_star = P.subs(Q, Q_star)\n",
    "\n",
    "# Calculate the optimal profit by substituting Q_star into the profit function\n",
    "profit_star = profit.subs(Q, Q_star)\n",
    "\n",
    "profit_star"
   ]
  },
  {
   "cell_type": "markdown",
   "metadata": {},
   "source": [
    "I make a function where i turn my functions *Q_star*, *P_star* and *profit_star* into python functions using `lambdify` and then print $Q^*$, $P^*$ and $\\pi^*$ :"
   ]
  },
  {
   "cell_type": "code",
   "execution_count": 3,
   "metadata": {},
   "outputs": [],
   "source": [
    "ss_Q = sm.lambdify((a, b, c), Q_star, \"numpy\")\n",
    "ss_P = sm.lambdify((a, b, c), P_star, \"numpy\")\n",
    "ss_profit = sm.lambdify((a, b, c, F), profit_star, \"numpy\")\n",
    "\n",
    "def optimum(a,b,c, F):\n",
    "    #We make the python functions:\n",
    "    optimal_Q = ss_Q(a, b, c)\n",
    "    optimal_P = ss_P(a, b, c)\n",
    "    optimal_profit = ss_profit(a, b, c, F)\n",
    "    \n",
    "    # Print the results formatted as requested\n",
    "    print(\"Optimal quantity Q is equal to: {:.2f}\".format(optimal_Q))\n",
    "    print(\"Optimal price P is equal to: {:.2f}\".format(optimal_P))\n",
    "    print(f\"Optimal profit \\u03C0 is equal to: {optimal_profit:.2f}\")"
   ]
  },
  {
   "cell_type": "markdown",
   "metadata": {},
   "source": [
    "## Numerical solution"
   ]
  },
  {
   "cell_type": "markdown",
   "metadata": {},
   "source": [
    "You can always solve a model numerically. \n",
    "\n",
    "Define first the set of parameters you need. \n",
    "\n",
    "Then choose one of the optimization algorithms that we have gone through in the lectures based on what you think is most fitting for your model.\n",
    "\n",
    "Are there any problems with convergence? Does the model converge for all starting values? Make a lot of testing to figure these things out. "
   ]
  },
  {
   "cell_type": "markdown",
   "metadata": {},
   "source": [
    "# **VI MANGLER NUMMERISK LØSNING. ANER IKKE HVORDAN MAN GØR DET, VI MÅ SPØRGE JONATHAN**\n",
    "OG SÅ SYNES JEG FAKTISK OGSÅ DET KUNNE VÆRE RET FLEX AT LAVE ET STANDARD MR, MC OG AC"
   ]
  },
  {
   "cell_type": "markdown",
   "metadata": {},
   "source": [
    "# Further analysis"
   ]
  },
  {
   "cell_type": "markdown",
   "metadata": {},
   "source": [
    "# INTERACTIVE 3D PLOT OF Q, P AND PROFIT"
   ]
  },
  {
   "cell_type": "code",
   "execution_count": 4,
   "metadata": {},
   "outputs": [
    {
     "data": {
      "application/vnd.jupyter.widget-view+json": {
       "model_id": "a514cc5a4ca4483e99cfe00d1e7c7220",
       "version_major": 2,
       "version_minor": 0
      },
      "text/plain": [
       "interactive(children=(FloatSlider(value=25.000000000000004, description='a', max=50.0, min=0.1), FloatSlider(v…"
      ]
     },
     "execution_count": 4,
     "metadata": {},
     "output_type": "execute_result"
    }
   ],
   "source": [
    "import matplotlib.pyplot as plt\n",
    "from mpl_toolkits.mplot3d import Axes3D\n",
    "from ipywidgets import interactive\n",
    "\n",
    "def plot_optimal_values(a, b, c, F):\n",
    "    optimal_Q = ss_Q(a, b, c)\n",
    "    optimal_P = ss_P(a, b, c)\n",
    "    optimal_profit = ss_profit(a, b, c, F)\n",
    "    \n",
    "    fig = plt.figure()\n",
    "    ax = fig.add_subplot(111, projection='3d')\n",
    "    \n",
    "    # Set fixed limits for each axis\n",
    "    ax.set_xlim(0, 20)  # Adjust the limits as needed\n",
    "    ax.set_ylim(0, 20)  # Adjust the limits as needed\n",
    "    ax.set_zlim(-50, 50)  # Adjust the limits as needed\n",
    "    \n",
    "    ax.scatter(optimal_Q, optimal_P, optimal_profit, color='r')\n",
    "    \n",
    "    # Plot lines from the red dot to each axis\n",
    "    ax.plot([optimal_Q, optimal_Q], [0, optimal_P], [optimal_profit, optimal_profit], color='b', linestyle='--')  # Line to x-axis\n",
    "    ax.plot([0, optimal_Q], [optimal_P, optimal_P], [optimal_profit, optimal_profit], color='g', linestyle='--')  # Line to y-axis\n",
    "    ax.plot([optimal_Q, optimal_Q], [optimal_P, optimal_P], [0, optimal_profit], color='purple', linestyle='--')  # Line to z-axis\n",
    "    \n",
    "    # Annotate the plot with axis values\n",
    "    ax.text(optimal_Q, 0, 0, f'Q: {optimal_Q:.2f}', color='b', fontsize=10)\n",
    "    ax.text(0, optimal_P, 0, f'P: {optimal_P:.2f}', color='g', fontsize=10)\n",
    "    ax.text(0, 0, optimal_profit, f'π: {optimal_profit:.2f}', color='purple', fontsize=10)\n",
    "    \n",
    "    ax.set_xlabel('Optimal Quantity (Q)')\n",
    "    ax.set_ylabel('Optimal Price (P)')\n",
    "    ax.set_zlabel('Optimal Profit (π)')\n",
    "    \n",
    "    plt.title('3D View of Optimal Q, P, and π')\n",
    "    plt.show()\n",
    "\n",
    "# Set up interactive widgets\n",
    "interactive_plot = interactive(plot_optimal_values, a=(0.1, 50.0, 0.1), b=(0.1, 5.0, 0.1), c=(0.1, 5.0, 0.1), F=(0.1, 50.0, 0.1))\n",
    "interactive_plot\n"
   ]
  },
  {
   "cell_type": "markdown",
   "metadata": {},
   "source": [
    "# FURTHER ANALYSIS 1: ALTERNATIVE DEMAND AND COST FUNCTIONS"
   ]
  },
  {
   "cell_type": "markdown",
   "metadata": {},
   "source": [
    "When solving the model, we implied the most basic versions of demand and cost functions. Therefore, the results are also pretty easy to interpret and solve. Because of that, we will try to change the analysis by implementing an exponential demand function and a quadratic cost function:\n",
    "\n",
    "1. **Exponential Demand Function**:\n",
    "   $$\n",
    "   Q = a \\cdot e^{-bP}\n",
    "   $$\n",
    "   Here, $a$ is the maximum potential demand when the price $P$ is very low, and $b$ represents the sensitivity of the quantity demanded to changes in price.\n",
    "\n",
    "2. **Inverse Demand Function**:\n",
    "   $$\n",
    "   P(Q) = -\\frac{1}{b} \\log\\left(\\frac{Q}{a}\\right)\n",
    "   $$\n",
    "   This function is derived by solving the exponential demand equation for $P$.\n",
    "\n",
    "3. **Quadratic Cost Function**:\n",
    "   $$\n",
    "   C(Q) = cQ + dQ^2 + F\n",
    "   $$\n",
    "   In this function, $c$ is the variable cost per unit, $d$ is the coefficient for the quadratic term indicating increasing marginal costs, and $F$ is the fixed cost.\n",
    "\n",
    "4. **Total Revenue (TR)**:\n",
    "   $$\n",
    "   TR(Q) = P(Q) \\cdot Q = \\left(-\\frac{1}{b} \\log\\left(\\frac{Q}{a}\\right)\\right) \\cdot Q\n",
    "   $$\n",
    "   This represents the total income received from selling $Q$ units at price $P(Q)$.\n",
    "\n",
    "5. **Profit Function**:\n",
    "   $$\n",
    "   \\pi(Q) = TR(Q) - C(Q) = \\left(-\\frac{1}{b} \\log\\left(\\frac{Q}{a}\\right)\\right) \\cdot Q - (cQ + dQ^2 + F)\n",
    "   $$\n",
    "   Profit is calculated by subtracting the total cost from the total revenue.\n"
   ]
  },
  {
   "cell_type": "code",
   "execution_count": 10,
   "metadata": {},
   "outputs": [],
   "source": [
    "import sympy as sm\n",
    "from scipy import optimize\n",
    "\n",
    "def solve_model(a, b, c, d, F):\n",
    "    # Define symbols\n",
    "    Q = sm.symbols('Q')\n",
    "    \n",
    "    # Exponential demand function\n",
    "    P = -sm.log(Q/a) / b\n",
    "    \n",
    "    # Quadratic cost function\n",
    "    C = c * Q + d * Q**2 + F\n",
    "    \n",
    "    # Revenue function\n",
    "    TR = P * Q\n",
    "    \n",
    "    # Profit function\n",
    "    profit = TR - C\n",
    "    \n",
    "    # First-order condition: differentiate profit with respect to Q and set to 0\n",
    "    profit_eq = sm.Eq(sm.diff(profit, Q), 0)\n",
    "    \n",
    "    # Solve the first-order condition for Q to find the quantity that maximizes profit\n",
    "    Q_star = sm.solve(profit_eq, Q)[0]\n",
    "    \n",
    "    # Calculate the optimal price by substituting Q_star into the inverse demand function\n",
    "    P_star = P.subs(Q, Q_star)\n",
    "    \n",
    "    # Calculate the optimal profit by substituting Q_star into the profit function\n",
    "    profit_star = profit.subs(Q, Q_star)\n",
    "\n",
    "    # Print the results\n",
    "    print(\"Optimal quantity Q is equal to:\", Q_star.evalf())\n",
    "    print(\"Optimal price P is equal to:\", P_star.evalf())\n",
    "    print(\"Optimal profit π is equal to:\", profit_star.evalf())\n",
    "    \n",
    "    return Q_star.evalf(), P_star.evalf(), profit_star.evalf()"
   ]
  },
  {
   "cell_type": "code",
   "execution_count": 11,
   "metadata": {},
   "outputs": [
    {
     "data": {
      "application/vnd.jupyter.widget-view+json": {
       "model_id": "b3af3d51e724441c9c710c57e0257a41",
       "version_major": 2,
       "version_minor": 0
      },
      "text/plain": [
       "interactive(children=(FloatSlider(value=49.1, description='a', min=0.1, step=1.0), FloatSlider(value=0.25, des…"
      ]
     },
     "execution_count": 11,
     "metadata": {},
     "output_type": "execute_result"
    }
   ],
   "source": [
    "def plot_optimal_values(a, b, c, d, F):\n",
    "    Q_star, P_star, profit_star = solve_model(a, b, c, d, F)\n",
    "    \n",
    "    fig = plt.figure()\n",
    "    ax = fig.add_subplot(111, projection='3d')\n",
    "    \n",
    "    # Set fixed limits for each axis\n",
    "    ax.set_xlim(0, 50)\n",
    "    ax.set_ylim(0, 50)\n",
    "    ax.set_zlim(0, 500)\n",
    "    \n",
    "    ax.scatter(Q_star, P_star, profit_star, color='r', s=100)\n",
    "    \n",
    "    ax.set_xlabel('Quantity (Q)')\n",
    "    ax.set_ylabel('Price (P)')\n",
    "    ax.set_zlabel('Profit (π)')\n",
    "    \n",
    "    ax.set_title('Optimal Q, P, and Profit')\n",
    "    \n",
    "    plt.show()\n",
    "\n",
    "# Set up interactive widgets\n",
    "interactive_plot = interactive(plot_optimal_values, \n",
    "                               a=(0.1, 100.0, 1), \n",
    "                               b=(0.0, 0.5, 0.05), \n",
    "                               c=(0.1, 10.0, 0.1), \n",
    "                               d=(0.01, 1.0, 0.1), \n",
    "                               F=(0.1, 100.0, 5))\n",
    "interactive_plot"
   ]
  },
  {
   "cell_type": "markdown",
   "metadata": {},
   "source": [
    "# **FURTHER ANALYSIS 2: DUOPOLY INSTEAD OF MONOPOLY**"
   ]
  },
  {
   "cell_type": "code",
   "execution_count": null,
   "metadata": {},
   "outputs": [],
   "source": []
  },
  {
   "cell_type": "markdown",
   "metadata": {},
   "source": [
    "# Conclusion"
   ]
  },
  {
   "cell_type": "markdown",
   "metadata": {},
   "source": [
    "Add concise conclusion. "
   ]
  },
  {
   "cell_type": "markdown",
   "metadata": {},
   "source": [
    "## **SPØRGSMÅL OG TO DO TIL JONATHAN:**\n",
    "- **NUMMERISK OPTIMERING for gamle model (SPØRGSMÅL)**\n",
    "- **Duopol**"
   ]
  }
 ],
 "metadata": {
  "kernelspec": {
   "display_name": "base",
   "language": "python",
   "name": "python3"
  },
  "language_info": {
   "codemirror_mode": {
    "name": "ipython",
    "version": 3
   },
   "file_extension": ".py",
   "mimetype": "text/x-python",
   "name": "python",
   "nbconvert_exporter": "python",
   "pygments_lexer": "ipython3",
   "version": "3.11.7"
  },
  "toc-autonumbering": true,
  "vscode": {
   "interpreter": {
    "hash": "47ef90cdf3004d3f859f1fb202523c65c07ba7c22eefd261b181f4744e2d0403"
   }
  }
 },
 "nbformat": 4,
 "nbformat_minor": 4
}
