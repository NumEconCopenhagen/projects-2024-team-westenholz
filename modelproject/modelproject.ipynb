{
 "cells": [
  {
   "cell_type": "markdown",
   "metadata": {},
   "source": [
    "# Model project: Investigating the Monopoly Pricing Model"
   ]
  },
  {
   "cell_type": "markdown",
   "metadata": {},
   "source": [
    "Imports and set magics:"
   ]
  },
  {
   "cell_type": "code",
   "execution_count": 1,
   "metadata": {},
   "outputs": [],
   "source": [
    "import numpy as np\n",
    "from scipy import optimize\n",
    "import sympy as sm\n",
    "from IPython.display import display, Math\n",
    "\n",
    "# autoreload modules when code is run\n",
    "%load_ext autoreload\n",
    "%autoreload 2\n",
    "\n",
    "# local modules\n",
    "import modelproject"
   ]
  },
  {
   "cell_type": "markdown",
   "metadata": {},
   "source": [
    "# Model description"
   ]
  },
  {
   "cell_type": "markdown",
   "metadata": {},
   "source": [
    "The **monopoly pricing model** is a basic model in microeconomics. We look at a monopoly on a market, looking to maximize their own profit. Given the demand for the consumers of the market, the monopoly can set a quantity which implies a ceratin price for the quantity sold, all adding up to the biggest profit possible.\n",
    "\n",
    "First, we consider the **basic monopoly pricing model**:\n",
    "\n",
    "1. $P$ is the price set by the monopolist.\n",
    "2. $Q$ is the quantity demanded at price P.\n",
    "3. $C(Q)$ is the cost function dependens on the quantity produced.\n",
    "\n",
    "Thereby, the **demand function** is ***linear*** and given by:\n",
    "$$Q=a-bP$$\n",
    "\n",
    "Where a is the maximum quantity that could be sold at P=0 while b can be interpreted as the sensititivy of the the quantity demanded to changes in price. The inverse is therefore:\n",
    "$$P(Q)=\\frac{1}{b}(a-Q)$$\n",
    "\n",
    "Furthermore, the **cost function** is ***linear*** and given by:\n",
    "$$C(Q) = cQ+F$$\n",
    "\n",
    "Where c is the variable cost per unit of production and F is the fixed cost.\n",
    "\n",
    "Funally, the **Revenue** is given by:\n",
    "$$TR(Q) = P(Q) \\cdot Q$$\n",
    "\n",
    "Thereby, the **Profit** is given by:\n",
    "$$\\pi (Q) = TR(Q)-C(Q)$$\n"
   ]
  },
  {
   "cell_type": "markdown",
   "metadata": {},
   "source": [
    "## Analytical solution"
   ]
  },
  {
   "cell_type": "markdown",
   "metadata": {},
   "source": [
    "First, we start off by solving the model analytically using *sumpy*:\n"
   ]
  },
  {
   "cell_type": "code",
   "execution_count": 2,
   "metadata": {},
   "outputs": [
    {
     "data": {
      "text/latex": [
       "$\\displaystyle - F - c \\left(\\frac{a}{2} - \\frac{b c}{2}\\right) + \\frac{\\left(\\frac{a}{2} - \\frac{b c}{2}\\right) \\left(\\frac{a}{2} + \\frac{b c}{2}\\right)}{b}$"
      ],
      "text/plain": [
       "-F - c*(a/2 - b*c/2) + (a/2 - b*c/2)*(a/2 + b*c/2)/b"
      ]
     },
     "execution_count": 2,
     "metadata": {},
     "output_type": "execute_result"
    }
   ],
   "source": [
    "# Define the symbols\n",
    "Q = sm.symbols('Q')\n",
    "a, b, c, F = sm.symbols('a b c F')\n",
    "pi_symbol = sm.symbols('pi')\n",
    "\n",
    "# Define the inverse demand function\n",
    "P = (a - Q) / b\n",
    "\n",
    "# Define the cost function\n",
    "C = c * Q + F\n",
    "\n",
    "# Define the revenue function\n",
    "TR = P * Q\n",
    "\n",
    "# Define the profit function\n",
    "profit = TR - C\n",
    "\n",
    "# Create an equation for the first-order condition by differentiating the profit function with respect to Q\n",
    "profit_eq = sm.Eq(sm.diff(profit, Q), 0)\n",
    "\n",
    "# Solve the first-order condition for Q to find the quantity that maximizes profit\n",
    "Q_star = sm.solve(profit_eq, Q)[0]\n",
    "\n",
    "# Calculate the optimal price by substituting Q_star into the inverse demand function\n",
    "P_star = P.subs(Q, Q_star)\n",
    "\n",
    "# Calculate the optimal profit by substituting Q_star into the profit function\n",
    "profit_star = profit.subs(Q, Q_star)\n",
    "\n",
    "profit_star"
   ]
  },
  {
   "cell_type": "code",
   "execution_count": 3,
   "metadata": {},
   "outputs": [
    {
     "name": "stdout",
     "output_type": "stream",
     "text": [
      "Optimal Quantity: 45\n",
      "Optimal Price: 55/2\n",
      "Optimal Profit: 2005/2\n"
     ]
    }
   ],
   "source": [
    "# Example usage with actual parameters\n",
    "a_value = 100  # Total potential market\n",
    "b_value = 2    # Price sensitivity\n",
    "c_value = 5    # Cost per unit\n",
    "F_value = 10   # Fixed cost\n",
    "\n",
    "# Calculate optimal values using the specified parameters\n",
    "optimal_quantity = Q_star.subs({a: a_value, b: b_value, c: c_value, F: F_value})\n",
    "optimal_price = P_star.subs({a: a_value, b: b_value, c: c_value, F: F_value})\n",
    "optimal_profit = profit_star.subs({a: a_value, b: b_value, c: c_value, F: F_value})\n",
    "\n",
    "print(f'Optimal Quantity: {optimal_quantity}')\n",
    "print(f'Optimal Price: {optimal_price}')\n",
    "print(f'Optimal Profit: {optimal_profit}')"
   ]
  },
  {
   "cell_type": "markdown",
   "metadata": {},
   "source": [
    "We make a function where we turn my functions *Q_star*, *P_star* and *profit_star* into python functions using `lambdify` and then print $Q^*$, $P^*$ and $\\pi^*$ :"
   ]
  },
  {
   "cell_type": "code",
   "execution_count": 4,
   "metadata": {},
   "outputs": [],
   "source": [
    "ss_Q = sm.lambdify((a, b, c), Q_star, \"numpy\")\n",
    "ss_P = sm.lambdify((a, b, c), P_star, \"numpy\")\n",
    "ss_profit = sm.lambdify((a, b, c, F), profit_star, \"numpy\")\n",
    "\n",
    "def optimum(a,b,c, F):\n",
    "    #We make the python functions:\n",
    "    optimal_Q = ss_Q(a, b, c)\n",
    "    optimal_P = ss_P(a, b, c)\n",
    "    optimal_profit = ss_profit(a, b, c, F)\n",
    "    \n",
    "    # Print the results formatted as requested\n",
    "    print(\"Optimal quantity Q is equal to: {:.2f}\".format(optimal_Q))\n",
    "    print(\"Optimal price P is equal to: {:.2f}\".format(optimal_P))\n",
    "    print(f\"Optimal profit \\u03C0 is equal to: {optimal_profit:.2f}\")"
   ]
  },
  {
   "cell_type": "markdown",
   "metadata": {},
   "source": [
    "## Numerical solution"
   ]
  },
  {
   "cell_type": "markdown",
   "metadata": {},
   "source": [
    "Brug optimize til at maksimerer profitten. Bed parametrene om at være positive."
   ]
  },
  {
   "cell_type": "code",
   "execution_count": 5,
   "metadata": {},
   "outputs": [
    {
     "ename": "NameError",
     "evalue": "name 'demand_price' is not defined",
     "output_type": "error",
     "traceback": [
      "\u001b[0;31m---------------------------------------------------------------------------\u001b[0m",
      "\u001b[0;31mNameError\u001b[0m                                 Traceback (most recent call last)",
      "Cell \u001b[0;32mIn[5], line 15\u001b[0m\n\u001b[1;32m     12\u001b[0m initial_guess \u001b[38;5;241m=\u001b[39m [\u001b[38;5;241m0\u001b[39m]\n\u001b[1;32m     14\u001b[0m \u001b[38;5;66;03m# Call solver\u001b[39;00m\n\u001b[0;32m---> 15\u001b[0m sol \u001b[38;5;241m=\u001b[39m optimize\u001b[38;5;241m.\u001b[39mminimize(\n\u001b[1;32m     16\u001b[0m     value_of_choice, initial_guess, args\u001b[38;5;241m=\u001b[39m(a, b, c, F),\n\u001b[1;32m     17\u001b[0m     method\u001b[38;5;241m=\u001b[39m\u001b[38;5;124m'\u001b[39m\u001b[38;5;124mSLSQP\u001b[39m\u001b[38;5;124m'\u001b[39m, bounds\u001b[38;5;241m=\u001b[39mbounds, constraints\u001b[38;5;241m=\u001b[39mconstraints)\n\u001b[1;32m     19\u001b[0m \u001b[38;5;66;03m# Unpack solution\u001b[39;00m\n\u001b[1;32m     20\u001b[0m optimal_quantity \u001b[38;5;241m=\u001b[39m sol\u001b[38;5;241m.\u001b[39mx[\u001b[38;5;241m0\u001b[39m]\n",
      "File \u001b[0;32m~/anaconda3/lib/python3.11/site-packages/scipy/optimize/_minimize.py:719\u001b[0m, in \u001b[0;36mminimize\u001b[0;34m(fun, x0, args, method, jac, hess, hessp, bounds, constraints, tol, callback, options)\u001b[0m\n\u001b[1;32m    716\u001b[0m     res \u001b[38;5;241m=\u001b[39m _minimize_cobyla(fun, x0, args, constraints, callback\u001b[38;5;241m=\u001b[39mcallback,\n\u001b[1;32m    717\u001b[0m                            bounds\u001b[38;5;241m=\u001b[39mbounds, \u001b[38;5;241m*\u001b[39m\u001b[38;5;241m*\u001b[39moptions)\n\u001b[1;32m    718\u001b[0m \u001b[38;5;28;01melif\u001b[39;00m meth \u001b[38;5;241m==\u001b[39m \u001b[38;5;124m'\u001b[39m\u001b[38;5;124mslsqp\u001b[39m\u001b[38;5;124m'\u001b[39m:\n\u001b[0;32m--> 719\u001b[0m     res \u001b[38;5;241m=\u001b[39m _minimize_slsqp(fun, x0, args, jac, bounds,\n\u001b[1;32m    720\u001b[0m                           constraints, callback\u001b[38;5;241m=\u001b[39mcallback, \u001b[38;5;241m*\u001b[39m\u001b[38;5;241m*\u001b[39moptions)\n\u001b[1;32m    721\u001b[0m \u001b[38;5;28;01melif\u001b[39;00m meth \u001b[38;5;241m==\u001b[39m \u001b[38;5;124m'\u001b[39m\u001b[38;5;124mtrust-constr\u001b[39m\u001b[38;5;124m'\u001b[39m:\n\u001b[1;32m    722\u001b[0m     res \u001b[38;5;241m=\u001b[39m _minimize_trustregion_constr(fun, x0, args, jac, hess, hessp,\n\u001b[1;32m    723\u001b[0m                                        bounds, constraints,\n\u001b[1;32m    724\u001b[0m                                        callback\u001b[38;5;241m=\u001b[39mcallback, \u001b[38;5;241m*\u001b[39m\u001b[38;5;241m*\u001b[39moptions)\n",
      "File \u001b[0;32m~/anaconda3/lib/python3.11/site-packages/scipy/optimize/_slsqp_py.py:329\u001b[0m, in \u001b[0;36m_minimize_slsqp\u001b[0;34m(func, x0, args, jac, bounds, constraints, maxiter, ftol, iprint, disp, eps, callback, finite_diff_rel_step, **unknown_options)\u001b[0m\n\u001b[1;32m    325\u001b[0m \u001b[38;5;66;03m# Set the parameters that SLSQP will need\u001b[39;00m\n\u001b[1;32m    326\u001b[0m \u001b[38;5;66;03m# meq, mieq: number of equality and inequality constraints\u001b[39;00m\n\u001b[1;32m    327\u001b[0m meq \u001b[38;5;241m=\u001b[39m \u001b[38;5;28msum\u001b[39m(\u001b[38;5;28mmap\u001b[39m(\u001b[38;5;28mlen\u001b[39m, [atleast_1d(c[\u001b[38;5;124m'\u001b[39m\u001b[38;5;124mfun\u001b[39m\u001b[38;5;124m'\u001b[39m](x, \u001b[38;5;241m*\u001b[39mc[\u001b[38;5;124m'\u001b[39m\u001b[38;5;124margs\u001b[39m\u001b[38;5;124m'\u001b[39m]))\n\u001b[1;32m    328\u001b[0m           \u001b[38;5;28;01mfor\u001b[39;00m c \u001b[38;5;129;01min\u001b[39;00m cons[\u001b[38;5;124m'\u001b[39m\u001b[38;5;124meq\u001b[39m\u001b[38;5;124m'\u001b[39m]]))\n\u001b[0;32m--> 329\u001b[0m mieq \u001b[38;5;241m=\u001b[39m \u001b[38;5;28msum\u001b[39m(\u001b[38;5;28mmap\u001b[39m(\u001b[38;5;28mlen\u001b[39m, [atleast_1d(c[\u001b[38;5;124m'\u001b[39m\u001b[38;5;124mfun\u001b[39m\u001b[38;5;124m'\u001b[39m](x, \u001b[38;5;241m*\u001b[39mc[\u001b[38;5;124m'\u001b[39m\u001b[38;5;124margs\u001b[39m\u001b[38;5;124m'\u001b[39m]))\n\u001b[1;32m    330\u001b[0m            \u001b[38;5;28;01mfor\u001b[39;00m c \u001b[38;5;129;01min\u001b[39;00m cons[\u001b[38;5;124m'\u001b[39m\u001b[38;5;124mineq\u001b[39m\u001b[38;5;124m'\u001b[39m]]))\n\u001b[1;32m    331\u001b[0m \u001b[38;5;66;03m# m = The total number of constraints\u001b[39;00m\n\u001b[1;32m    332\u001b[0m m \u001b[38;5;241m=\u001b[39m meq \u001b[38;5;241m+\u001b[39m mieq\n",
      "File \u001b[0;32m~/anaconda3/lib/python3.11/site-packages/scipy/optimize/_slsqp_py.py:329\u001b[0m, in \u001b[0;36m<listcomp>\u001b[0;34m(.0)\u001b[0m\n\u001b[1;32m    325\u001b[0m \u001b[38;5;66;03m# Set the parameters that SLSQP will need\u001b[39;00m\n\u001b[1;32m    326\u001b[0m \u001b[38;5;66;03m# meq, mieq: number of equality and inequality constraints\u001b[39;00m\n\u001b[1;32m    327\u001b[0m meq \u001b[38;5;241m=\u001b[39m \u001b[38;5;28msum\u001b[39m(\u001b[38;5;28mmap\u001b[39m(\u001b[38;5;28mlen\u001b[39m, [atleast_1d(c[\u001b[38;5;124m'\u001b[39m\u001b[38;5;124mfun\u001b[39m\u001b[38;5;124m'\u001b[39m](x, \u001b[38;5;241m*\u001b[39mc[\u001b[38;5;124m'\u001b[39m\u001b[38;5;124margs\u001b[39m\u001b[38;5;124m'\u001b[39m]))\n\u001b[1;32m    328\u001b[0m           \u001b[38;5;28;01mfor\u001b[39;00m c \u001b[38;5;129;01min\u001b[39;00m cons[\u001b[38;5;124m'\u001b[39m\u001b[38;5;124meq\u001b[39m\u001b[38;5;124m'\u001b[39m]]))\n\u001b[0;32m--> 329\u001b[0m mieq \u001b[38;5;241m=\u001b[39m \u001b[38;5;28msum\u001b[39m(\u001b[38;5;28mmap\u001b[39m(\u001b[38;5;28mlen\u001b[39m, [atleast_1d(c[\u001b[38;5;124m'\u001b[39m\u001b[38;5;124mfun\u001b[39m\u001b[38;5;124m'\u001b[39m](x, \u001b[38;5;241m*\u001b[39mc[\u001b[38;5;124m'\u001b[39m\u001b[38;5;124margs\u001b[39m\u001b[38;5;124m'\u001b[39m]))\n\u001b[1;32m    330\u001b[0m            \u001b[38;5;28;01mfor\u001b[39;00m c \u001b[38;5;129;01min\u001b[39;00m cons[\u001b[38;5;124m'\u001b[39m\u001b[38;5;124mineq\u001b[39m\u001b[38;5;124m'\u001b[39m]]))\n\u001b[1;32m    331\u001b[0m \u001b[38;5;66;03m# m = The total number of constraints\u001b[39;00m\n\u001b[1;32m    332\u001b[0m m \u001b[38;5;241m=\u001b[39m meq \u001b[38;5;241m+\u001b[39m mieq\n",
      "Cell \u001b[0;32mIn[5], line 8\u001b[0m, in \u001b[0;36m<lambda>\u001b[0;34m(Q)\u001b[0m\n\u001b[1;32m      4\u001b[0m     \u001b[38;5;28;01mreturn\u001b[39;00m \u001b[38;5;241m-\u001b[39m(demand_price(Q, a, b) \u001b[38;5;241m*\u001b[39m Q \u001b[38;5;241m-\u001b[39m cost(Q, c, F))\n\u001b[1;32m      6\u001b[0m \u001b[38;5;66;03m# Constraints and bounds\u001b[39;00m\n\u001b[1;32m      7\u001b[0m constraints \u001b[38;5;241m=\u001b[39m ({\u001b[38;5;124m'\u001b[39m\u001b[38;5;124mtype\u001b[39m\u001b[38;5;124m'\u001b[39m: \u001b[38;5;124m'\u001b[39m\u001b[38;5;124mineq\u001b[39m\u001b[38;5;124m'\u001b[39m, \u001b[38;5;124m'\u001b[39m\u001b[38;5;124mfun\u001b[39m\u001b[38;5;124m'\u001b[39m: \u001b[38;5;28;01mlambda\u001b[39;00m Q: Q},\n\u001b[0;32m----> 8\u001b[0m                {\u001b[38;5;124m'\u001b[39m\u001b[38;5;124mtype\u001b[39m\u001b[38;5;124m'\u001b[39m: \u001b[38;5;124m'\u001b[39m\u001b[38;5;124mineq\u001b[39m\u001b[38;5;124m'\u001b[39m, \u001b[38;5;124m'\u001b[39m\u001b[38;5;124mfun\u001b[39m\u001b[38;5;124m'\u001b[39m: \u001b[38;5;28;01mlambda\u001b[39;00m Q: a \u001b[38;5;241m-\u001b[39m b \u001b[38;5;241m*\u001b[39m demand_price(Q, a, b)})  \u001b[38;5;66;03m# Ensure a >= b * P(Q)\u001b[39;00m\n\u001b[1;32m      9\u001b[0m bounds \u001b[38;5;241m=\u001b[39m ((\u001b[38;5;241m0\u001b[39m, \u001b[38;5;28;01mNone\u001b[39;00m),)  \u001b[38;5;66;03m# Quantity Q has to be 0 or higher\u001b[39;00m\n\u001b[1;32m     11\u001b[0m \u001b[38;5;66;03m# Initial guess\u001b[39;00m\n",
      "\u001b[0;31mNameError\u001b[0m: name 'demand_price' is not defined"
     ]
    }
   ],
   "source": [
    "from scipy import optimize\n",
    "\n",
    "def value_of_choice(Q, a, b, c, F):\n",
    "    return -(demand_price(Q, a, b) * Q - cost(Q, c, F))\n",
    "\n",
    "# Constraints and bounds\n",
    "constraints = ({'type': 'ineq', 'fun': lambda Q: Q},\n",
    "               {'type': 'ineq', 'fun': lambda Q: a - b * demand_price(Q, a, b)})  # Ensure a >= b * P(Q)\n",
    "bounds = ((0, None),)  # Quantity Q has to be 0 or higher\n",
    "\n",
    "# Initial guess\n",
    "initial_guess = [0]\n",
    "\n",
    "# Call solver\n",
    "sol = optimize.minimize(\n",
    "    value_of_choice, initial_guess, args=(a, b, c, F),\n",
    "    method='SLSQP', bounds=bounds, constraints=constraints)\n",
    "\n",
    "# Unpack solution\n",
    "optimal_quantity = sol.x[0]\n",
    "optimal_price = demand_price(optimal_quantity, a, b)\n",
    "max_profit = -sol.fun\n",
    "\n",
    "print(\"Optimal quantity:\", optimal_quantity)\n",
    "print(\"Optimal price:\", optimal_price)\n",
    "print(\"Maximum profit:\", max_profit)\n"
   ]
  },
  {
   "cell_type": "markdown",
   "metadata": {},
   "source": [
    "# Further analysis"
   ]
  },
  {
   "cell_type": "markdown",
   "metadata": {},
   "source": [
    "# INTERACTIVE 3D PLOT OF Q, P AND PROFIT"
   ]
  },
  {
   "cell_type": "code",
   "execution_count": null,
   "metadata": {},
   "outputs": [
    {
     "data": {
      "application/vnd.jupyter.widget-view+json": {
       "model_id": "5c97626c8e2b4572bb6edca4a820b1e0",
       "version_major": 2,
       "version_minor": 0
      },
      "text/plain": [
       "interactive(children=(FloatSlider(value=25.000000000000004, description='a', max=50.0, min=0.1), FloatSlider(v…"
      ]
     },
     "execution_count": 34,
     "metadata": {},
     "output_type": "execute_result"
    }
   ],
   "source": [
    "import matplotlib.pyplot as plt\n",
    "from mpl_toolkits.mplot3d import Axes3D\n",
    "from ipywidgets import interactive\n",
    "\n",
    "def plot_optimal_values(a, b, c, F):\n",
    "    optimal_Q = ss_Q(a, b, c)\n",
    "    optimal_P = ss_P(a, b, c)\n",
    "    optimal_profit = ss_profit(a, b, c, F)\n",
    "    \n",
    "    # Increase the figure size or adjust as needed\n",
    "    fig = plt.figure(figsize=(10, 8))  # Adjust the figure size as needed\n",
    "    ax = fig.add_subplot(111, projection='3d')\n",
    "    \n",
    "    # Set fixed limits for each axis\n",
    "    ax.set_xlim(0, 20)\n",
    "    ax.set_ylim(0, 20)\n",
    "    ax.set_zlim(-50, 50)\n",
    "    \n",
    "    ax.scatter(optimal_Q, optimal_P, optimal_profit, color='r')\n",
    "    \n",
    "    # Plot lines from the red dot to each axis\n",
    "    ax.plot([optimal_Q, optimal_Q], [0, optimal_P], [optimal_profit, optimal_profit], color='b', linestyle='--')  # Line to x-axis\n",
    "    ax.plot([0, optimal_Q], [optimal_P, optimal_P], [optimal_profit, optimal_profit], color='g', linestyle='--')  # Line to y-axis\n",
    "    ax.plot([optimal_Q, optimal_Q], [optimal_P, optimal_P], [0, optimal_profit], color='purple', linestyle='--')  # Line to z-axis\n",
    "    \n",
    "    # Annotate the plot with axis values\n",
    "    ax.text(optimal_Q, 0, 0, f'Q: {optimal_Q:.2f}', color='b', fontsize=10)\n",
    "    ax.text(0, optimal_P, 0, f'P: {optimal_P:.2f}', color='g', fontsize=10)\n",
    "    ax.text(0, 0, optimal_profit, f'π: {optimal_profit:.2f}', color='purple', fontsize=10)\n",
    "    \n",
    "    ax.set_xlabel('Optimal Quantity (Q)')\n",
    "    ax.set_ylabel('Optimal Price (P)')\n",
    "    ax.set_zlabel('Optimal Profit (π)')\n",
    "    \n",
    "    # Rotate the plot slightly for better visibility of the Z-axis label\n",
    "    ax.view_init(elev=20, azim=150)\n",
    "    \n",
    "    plt.title('3D View of Optimal Q, P, and π')\n",
    "    plt.tight_layout()  # This will adjust subplots to give some padding and prevent overlap\n",
    "    plt.show()\n",
    "\n",
    "# Set up interactive widgets\n",
    "interactive_plot = interactive(plot_optimal_values, a=(0.1, 50.0, 0.1), b=(0.1, 5.0, 0.1), c=(0.1, 5.0, 0.1), F=(0.1, 50.0, 0.1))\n",
    "interactive_plot\n"
   ]
  },
  {
   "cell_type": "markdown",
   "metadata": {},
   "source": [
    "# FURTHER ANALYSIS 1: ALTERNATIVE DEMAND AND COST FUNCTIONS"
   ]
  },
  {
   "cell_type": "markdown",
   "metadata": {},
   "source": [
    "When solving the model, we implied the most basic versions of demand and cost functions. Therefore, the results are also pretty easy to interpret and solve. Because of that, we will try to change the analysis by implementing an exponential demand function and a quadratic cost function:\n",
    "\n",
    "1. **Exponential Demand Function**:\n",
    "   $$\n",
    "   Q = a \\cdot e^{-bP}\n",
    "   $$\n",
    "   Here, $a$ is the maximum potential demand when the price $P$ is very low, and $b$ represents the sensitivity of the quantity demanded to changes in price.\n",
    "\n",
    "2. **Inverse Demand Function**:\n",
    "   $$\n",
    "   P(Q) = -\\frac{1}{b} \\log\\left(\\frac{Q}{a}\\right)\n",
    "   $$\n",
    "   This function is derived by solving the exponential demand equation for $P$.\n",
    "\n",
    "3. **Quadratic Cost Function**:\n",
    "   $$\n",
    "   C(Q) = cQ + dQ^2 + F\n",
    "   $$\n",
    "   In this function, $c$ is the variable cost per unit, $d$ is the coefficient for the quadratic term indicating increasing marginal costs, and $F$ is the fixed cost.\n",
    "\n",
    "4. **Total Revenue (TR)**:\n",
    "   $$\n",
    "   TR(Q) = P(Q) \\cdot Q = \\left(-\\frac{1}{b} \\log\\left(\\frac{Q}{a}\\right)\\right) \\cdot Q\n",
    "   $$\n",
    "   This represents the total income received from selling $Q$ units at price $P(Q)$.\n",
    "\n",
    "5. **Profit Function**:\n",
    "   $$\n",
    "   \\pi(Q) = TR(Q) - C(Q) = \\left(-\\frac{1}{b} \\log\\left(\\frac{Q}{a}\\right)\\right) \\cdot Q - (cQ + dQ^2 + F)\n",
    "   $$\n",
    "   Profit is calculated by subtracting the total cost from the total revenue.\n"
   ]
  },
  {
   "cell_type": "code",
   "execution_count": 6,
   "metadata": {},
   "outputs": [
    {
     "name": "stdout",
     "output_type": "stream",
     "text": [
      "Optimal quantity Q is equal to: 9.03767848889575\n",
      "Optimal price P is equal to: 24.0376784888958\n",
      "Optimal profit π is equal to: 121.216601123282\n"
     ]
    }
   ],
   "source": [
    "import sympy as sm\n",
    "\n",
    "def solve_model(a, b, c, d, F):\n",
    "    # Define symbols\n",
    "    Q = sm.symbols('Q')\n",
    "    \n",
    "    # Exponential demand function\n",
    "    P = -sm.log(Q/a) / b\n",
    "    \n",
    "    # Quadratic cost function\n",
    "    C = c * Q + d * Q**2 + F\n",
    "    \n",
    "    # Revenue function\n",
    "    TR = P * Q\n",
    "    \n",
    "    # Profit function\n",
    "    profit = TR - C\n",
    "    \n",
    "    # First-order condition: differentiate profit with respect to Q and set to 0\n",
    "    profit_eq = sm.Eq(sm.diff(profit, Q), 0)\n",
    "    \n",
    "    # Solve the first-order condition for Q to find the quantity that maximizes profit\n",
    "    Q_star = sm.solve(profit_eq, Q)[0]\n",
    "    \n",
    "    # Calculate the optimal price by substituting Q_star into the inverse demand function\n",
    "    P_star = P.subs(Q, Q_star)\n",
    "    \n",
    "    # Calculate the optimal profit by substituting Q_star into the profit function\n",
    "    profit_star = profit.subs(Q, Q_star)\n",
    "\n",
    "    # Print the results\n",
    "    print(\"Optimal quantity Q is equal to:\", Q_star.evalf())\n",
    "    print(\"Optimal price P is equal to:\", P_star.evalf())\n",
    "    print(\"Optimal profit π is equal to:\", profit_star.evalf())\n",
    "    \n",
    "    return Q_star.evalf(), P_star.evalf(), profit_star.evalf()\n",
    "\n",
    "# Example usage with specified parameters\n",
    "a_value = 100  # Maximum potential demand when P is very low\n",
    "b_value = 0.1  # Sensitivity of the quantity demanded to changes in price\n",
    "c_value = 5    # Variable cost per unit\n",
    "d_value = 0.5  # Coefficient for the quadratic term in cost function\n",
    "F_value = 10   # Fixed cost\n",
    "\n",
    "# Calculate optimal values using specified parameters\n",
    "optimal_quantity, optimal_price, optimal_profit = solve_model(a_value, b_value, c_value, d_value, F_value)\n"
   ]
  },
  {
   "cell_type": "markdown",
   "metadata": {},
   "source": [
    "# INTERACTIVE 3D PLOT OF Q, P AND PROFIT"
   ]
  },
  {
   "cell_type": "code",
   "execution_count": 7,
   "metadata": {},
   "outputs": [
    {
     "data": {
      "application/vnd.jupyter.widget-view+json": {
       "model_id": "72075adb05e345cbbfd3d59370ccd267",
       "version_major": 2,
       "version_minor": 0
      },
      "text/plain": [
       "interactive(children=(FloatSlider(value=49.1, description='a', min=0.1, step=1.0), FloatSlider(value=0.25, des…"
      ]
     },
     "execution_count": 7,
     "metadata": {},
     "output_type": "execute_result"
    }
   ],
   "source": [
    "import matplotlib.pyplot as plt\n",
    "from mpl_toolkits.mplot3d import Axes3D\n",
    "from ipywidgets import interactive\n",
    "\n",
    "def plot_optimal_values(a, b, c, d, F):\n",
    "    # Adjust this function to retrieve your calculated values\n",
    "    Q_star, P_star, profit_star = solve_model(a, b, c, d, F)\n",
    "    \n",
    "    fig = plt.figure(figsize=(10, 8))  # Adjust the figure size as needed\n",
    "    ax = fig.add_subplot(111, projection='3d')\n",
    "    \n",
    "    # Set fixed limits for each axis, adjust as necessary\n",
    "    ax.set_xlim(0, 50)\n",
    "    ax.set_ylim(0, 50)\n",
    "    ax.set_zlim(0, 500)\n",
    "    \n",
    "    ax.scatter(Q_star, P_star, profit_star, color='r', s=100)\n",
    "    \n",
    "    # Plot lines from the red dot to each axis\n",
    "    ax.plot([Q_star, Q_star], [0, P_star], [profit_star, profit_star], color='b', linestyle='--')  # Line to x-axis\n",
    "    ax.plot([0, Q_star], [P_star, P_star], [profit_star, profit_star], color='g', linestyle='--')  # Line to y-axis\n",
    "    ax.plot([Q_star, Q_star], [P_star, P_star], [0, profit_star], color='purple', linestyle='--')  # Line to z-axis\n",
    "    \n",
    "    # Annotate the plot with axis values\n",
    "    ax.text(Q_star, 0, 0, f'Q: {Q_star:.2f}', color='b', fontsize=10)\n",
    "    ax.text(0, P_star, 0, f'P: {P_star:.2f}', color='g', fontsize=10)\n",
    "    ax.text(0, 0, profit_star, f'π: {profit_star:.2f}', color='purple', fontsize=10)\n",
    "    \n",
    "    ax.set_xlabel('Quantity (Q)')\n",
    "    ax.set_ylabel('Price (P)')\n",
    "    ax.set_zlabel('Profit (π)')\n",
    "    \n",
    "    # Rotate the plot slightly for better visibility of the Z-axis label\n",
    "    ax.view_init(elev=20, azim=150)\n",
    "    \n",
    "    ax.set_title('3D View of Optimal Q, P, and π')\n",
    "    \n",
    "    plt.tight_layout()  # This will adjust subplots to give some padding and prevent overlap\n",
    "    plt.show()\n",
    "\n",
    "# Set up interactive widgets\n",
    "interactive_plot = interactive(plot_optimal_values, \n",
    "                               a=(0.1, 100.0, 1), \n",
    "                               b=(0.05, 0.5, 0.05), \n",
    "                               c=(0.1, 10.0, 0.1), \n",
    "                               d=(0.01, 1.0, 0.1), \n",
    "                               F=(0.1, 100.0, 5))\n",
    "interactive_plot\n"
   ]
  },
  {
   "cell_type": "markdown",
   "metadata": {},
   "source": [
    "# **FURTHER ANALYSIS 2: DUOPOLY INSTEAD OF MONOPOLY**"
   ]
  },
  {
   "cell_type": "markdown",
   "metadata": {},
   "source": [
    "So far we have only considered a monopoly. But with if the markets consisted of two competitiors producing the same good?\n",
    "\n",
    "**Cournot Duopoly Model**\n",
    "\n",
    "1. Let $Q_1$ and $Q_2$ be the quantities produced by firm 1 and firm 2, respectively.\n",
    "2. Total quantity $Q$ in the market is $Q = Q_1 + Q_2$.\n",
    "3. The demand function is linear, as in the monopoly case:\n",
    "   $$\n",
    "   Q = a - bP\n",
    "   $$\n",
    "   Rearranged for price:\n",
    "   $$\n",
    "   P(Q) = \\frac{a - Q}{b} = \\frac{a - Q_1 - Q_2}{b}\n",
    "   $$\n",
    "\n",
    "4. Each firm has a similar cost structure:\n",
    "   - Firm 1: \n",
    "     $$\n",
    "     C_1(Q_1) = c_1Q_1 + F_1\n",
    "     $$\n",
    "   - Firm 2:\n",
    "     $$\n",
    "     C_2(Q_2) = c_2Q_2 + F_2\n",
    "     $$\n",
    "\n",
    "5. Revenues and profits for each firm are then calculated as:\n",
    "   - Firm 1:\n",
    "     $$\n",
    "     \\pi_1 = (P(Q) \\times Q_1) - C_1(Q_1)\n",
    "     $$\n",
    "   - Firm 2:\n",
    "     $$\n",
    "     \\pi_2 = (P(Q) \\times Q_2) - C_2(Q_2)\n",
    "     $$\n"
   ]
  },
  {
   "cell_type": "code",
   "execution_count": 8,
   "metadata": {},
   "outputs": [
    {
     "name": "stdout",
     "output_type": "stream",
     "text": [
      "Optimal Quantity for Firm 1: 30\n",
      "Optimal Quantity for Firm 2: 440\n",
      "Optimal Profit for Firm 1: 440\n",
      "Optimal Profit for Firm 2: 440\n",
      "\n",
      "------------------------------------------\n",
      "\n",
      "Overall quantatity for both Firms: 880\n",
      "Optimal Market Price: 20\n",
      "Overall profit for both Firms: 880\n"
     ]
    }
   ],
   "source": [
    "import sympy as sp\n",
    "\n",
    "def solve_duopoly(a, b, c1, c2, F1, F2):\n",
    "    # Define the quantities for both firms as symbolic variables\n",
    "    Q1, Q2 = sp.symbols('Q1 Q2')\n",
    "    \n",
    "    # Define the price as a function of the total quantity Q1 + Q2\n",
    "    P = (a - Q1 - Q2) / b\n",
    "    \n",
    "    # Define the cost functions for both firms\n",
    "    C1 = c1 * Q1 + F1\n",
    "    C2 = c2 * Q2 + F2\n",
    "    \n",
    "    # Define the profit functions for each firm\n",
    "    Profit1 = P * Q1 - C1\n",
    "    Profit2 = P * Q2 - C2\n",
    "    \n",
    "    # Set up the first-order conditions by differentiating profits with respect to quantities\n",
    "    dProfit1_dQ1 = sp.diff(Profit1, Q1)\n",
    "    dProfit2_dQ2 = sp.diff(Profit2, Q2)\n",
    "    \n",
    "    # Solve the first-order conditions to find the equilibrium quantities\n",
    "    equilibria = sp.solve([dProfit1_dQ1, dProfit2_dQ2], (Q1, Q2))\n",
    "    Q1_star, Q2_star = equilibria[Q1], equilibria[Q2]\n",
    "    \n",
    "    # Calculate the equilibrium price\n",
    "    P_star = (a - Q1_star - Q2_star) / b\n",
    "    \n",
    "    # Calculate the profits for each firm at the equilibrium quantities\n",
    "    profit1_star = P_star * Q1_star - (c1 * Q1_star + F1)\n",
    "    profit2_star = P_star * Q2_star - (c2 * Q2_star + F2)\n",
    "    \n",
    "    # Return the equilibrium quantities, price, and profits for both firms\n",
    "    return Q1_star, Q2_star, P_star, profit1_star, profit2_star\n",
    "\n",
    "# Example usage with given parameters\n",
    "a = 100  # Total potential market\n",
    "b = 2    # Price sensitivity\n",
    "c1 = 5   # Cost per unit for firm 1\n",
    "c2 = 5   # Cost per unit for firm 2\n",
    "F1 = 10  # Fixed cost for firm 1\n",
    "F2 = 10  # Fixed cost for firm 2\n",
    "\n",
    "# Calculate the equilibrium values\n",
    "optimal_Q1, optimal_Q2, optimal_P, optimal_profit1, optimal_profit2 = solve_duopoly(a, b, c1, c2, F1, F2)\n",
    "\n",
    "# Print the calculated optimal values\n",
    "print(f'Optimal Quantity for Firm 1: {optimal_Q1}')\n",
    "print(f'Optimal Quantity for Firm 2: {optimal_profit1}')\n",
    "print(f'Optimal Profit for Firm 1: {optimal_profit1}')\n",
    "print(f'Optimal Profit for Firm 2: {optimal_profit2}')\n",
    "print(f'')\n",
    "print(f'------------------------------------------')\n",
    "print(f'')\n",
    "print(f'Overall quantatity for both Firms: {optimal_profit1+optimal_profit1}')\n",
    "print(f'Optimal Market Price: {optimal_P}')\n",
    "print(f'Overall profit for both Firms: {optimal_profit1+optimal_profit2}')\n"
   ]
  },
  {
   "cell_type": "markdown",
   "metadata": {},
   "source": [
    "# INTERACTIVE 3D PLOT OF Q, P AND PROFIT"
   ]
  },
  {
   "cell_type": "code",
   "execution_count": 9,
   "metadata": {},
   "outputs": [
    {
     "data": {
      "application/vnd.jupyter.widget-view+json": {
       "model_id": "03d0c4b9b4aa49dab41c95e2b3f89292",
       "version_major": 2,
       "version_minor": 0
      },
      "text/plain": [
       "interactive(children=(FloatSlider(value=25.000000000000004, description='a', max=50.0, min=0.1), FloatSlider(v…"
      ]
     },
     "execution_count": 9,
     "metadata": {},
     "output_type": "execute_result"
    }
   ],
   "source": [
    "# Define the function that will be plotted\n",
    "def plot_duopoly_values(a, b, c1, c2, F1, F2):\n",
    "    Q1_star, Q2_star, P_star, profit1_star, profit2_star = solve_duopoly(a, b, c1, c2, F1, F2)\n",
    "    \n",
    "    fig = plt.figure(figsize=(10, 8))\n",
    "    ax = fig.add_subplot(111, projection='3d')\n",
    "    \n",
    "    # Set axis limits (adjust if necessary)\n",
    "    ax.set_xlim(0, 50)\n",
    "    ax.set_ylim(0, 50)\n",
    "    ax.set_zlim(0, 500)\n",
    "    \n",
    "    # Plot firm 1\n",
    "    ax.scatter(Q1_star, P_star, profit1_star, color='r', s=100, label='Firm 1')\n",
    "    ax.plot([Q1_star, Q1_star], [0, P_star], [profit1_star, profit1_star], color='b', linestyle='--')\n",
    "    ax.plot([0, Q1_star], [P_star, P_star], [profit1_star, profit1_star], color='g', linestyle='--')\n",
    "    ax.plot([Q1_star, Q1_star], [P_star, P_star], [0, profit1_star], color='purple', linestyle='--')\n",
    "    ax.text(Q1_star, 0, 0, f'Q1: {Q1_star:.2f}', color='b', fontsize=10)\n",
    "    ax.text(0, P_star, 0, f'P: {P_star:.2f}', color='g', fontsize=10)\n",
    "    ax.text(0, 0, profit1_star, f'π1: {profit1_star:.2f}', color='purple', fontsize=10)\n",
    "    \n",
    "    # Plot firm 2\n",
    "    ax.scatter(Q2_star, P_star, profit2_star, color='blue', s=100, label='Firm 2')\n",
    "    ax.plot([Q2_star, Q2_star], [0, P_star], [profit2_star, profit2_star], color='orange', linestyle='--')\n",
    "    ax.plot([0, Q2_star], [P_star, P_star], [profit2_star, profit2_star], color='cyan', linestyle='--')\n",
    "    ax.plot([Q2_star, Q2_star], [P_star, P_star], [0, profit2_star], color='magenta', linestyle='--')\n",
    "    ax.text(Q2_star, 0, 0, f'Q2: {Q2_star:.2f}', color='orange', fontsize=10)\n",
    "    ax.text(0, P_star, 0, f'P: {P_star:.2f}', color='cyan', fontsize=10)\n",
    "    ax.text(0, 0, profit2_star, f'π2: {profit2_star:.2f}', color='magenta', fontsize=10)\n",
    "    \n",
    "    ax.set_xlabel('Quantity (Q)')\n",
    "    ax.set_ylabel('Price (P)')\n",
    "    ax.set_zlabel('Profit (π)')\n",
    "    ax.legend()\n",
    "    ax.set_title('3D View of Optimal Q1, Q2, and Profits for Both Firms')\n",
    "    \n",
    "    plt.show()\n",
    "\n",
    "# Set up interactive widgets\n",
    "interactive_plot = interactive(plot_duopoly_values, a=(0.1, 50.0, 0.1), b=(0.1, 5.0, 0.1), c1=(0.1, 5.0, 0.1), c2=(0.1, 5.0, 0.1), F1=(0.1, 50.0, 0.1), F2=(0.1, 50.0, 0.1))\n",
    "interactive_plot"
   ]
  },
  {
   "cell_type": "markdown",
   "metadata": {},
   "source": [
    "# COMPARISON"
   ]
  },
  {
   "cell_type": "code",
   "execution_count": null,
   "metadata": {},
   "outputs": [],
   "source": []
  },
  {
   "cell_type": "markdown",
   "metadata": {},
   "source": [
    "# Conclusion"
   ]
  },
  {
   "cell_type": "code",
   "execution_count": null,
   "metadata": {},
   "outputs": [],
   "source": []
  },
  {
   "cell_type": "markdown",
   "metadata": {},
   "source": [
    "Add concise conclusion. "
   ]
  }
 ],
 "metadata": {
  "kernelspec": {
   "display_name": "base",
   "language": "python",
   "name": "python3"
  },
  "language_info": {
   "codemirror_mode": {
    "name": "ipython",
    "version": 3
   },
   "file_extension": ".py",
   "mimetype": "text/x-python",
   "name": "python",
   "nbconvert_exporter": "python",
   "pygments_lexer": "ipython3",
   "version": "3.11.7"
  },
  "toc-autonumbering": true,
  "vscode": {
   "interpreter": {
    "hash": "47ef90cdf3004d3f859f1fb202523c65c07ba7c22eefd261b181f4744e2d0403"
   }
  }
 },
 "nbformat": 4,
 "nbformat_minor": 4
}
