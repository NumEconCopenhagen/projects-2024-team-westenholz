{
 "cells": [
  {
   "cell_type": "markdown",
   "metadata": {},
   "source": [
    "# YOUR PROJECT TITLE"
   ]
  },
  {
   "attachments": {},
   "cell_type": "markdown",
   "metadata": {},
   "source": [
    "> **Note the following:** \n",
    "> 1. This is *not* meant to be an example of an actual **model analysis project**, just an example of how to structure such a project.\n",
    "> 1. Remember the general advice on structuring and commenting your code\n",
    "> 1. The `modelproject.py` file includes a function which could be used multiple times in this notebook."
   ]
  },
  {
   "cell_type": "markdown",
   "metadata": {},
   "source": [
    "Imports and set magics:"
   ]
  },
  {
   "cell_type": "code",
   "execution_count": 1,
   "metadata": {},
   "outputs": [],
   "source": [
    "import numpy as np\n",
    "from scipy import optimize\n",
    "import sympy as sm\n",
    "\n",
    "# autoreload modules when code is run\n",
    "%load_ext autoreload\n",
    "%autoreload 2\n",
    "\n",
    "# local modules\n",
    "import modelproject"
   ]
  },
  {
   "cell_type": "markdown",
   "metadata": {},
   "source": [
    "# Model description"
   ]
  },
  {
   "cell_type": "markdown",
   "metadata": {},
   "source": [
    "**Write out the model in equations here.** \n",
    "\n",
    "Make sure you explain well the purpose of the model and comment so that other students who may not have seen it before can follow.  "
   ]
  },
  {
   "cell_type": "markdown",
   "metadata": {},
   "source": [
    "The **monopoly pricing model** is a basic model in microeconomics. We look at a monopoly on a market, looking to maximize their own profit. Given the demand for the consumers of the market, the monopoly can set a quantity which implies a ceratin price for the quantity sold, all adding up to the biggest profit possible.\n",
    "\n",
    "First, we consider the **basic monopoly pricing model**:\n",
    "\n",
    "1. $P$ is the price set by the monopolist.\n",
    "2. $Q$ is the quantity demanded at price P.\n",
    "3. $C(Q)$ is the cost function dependens on the quantity produced.\n",
    "\n",
    "Thereby, the **demand function** is ***linear*** and given by:\n",
    "$$Q=a-bP$$\n",
    "\n",
    "Where a is the maximum quantity that could be sold at P=0 while b can be interpreted as the sensititivy of the the quantity demanded to changes in price. The inverse is therefore:\n",
    "$$P(Q)=\\frac{1}{b}(a-Q)$$\n",
    "\n",
    "Furthermore, the **cost function** is ***linear*** and given by:\n",
    "$$C(Q) = cQ+F$$\n",
    "\n",
    "Where c is the variable cost per unit of production and F is the fixed cost.\n",
    "\n",
    "Funally, the **Revenue** is given by:\n",
    "$$TR(Q) = P(Q) \\cdot Q$$\n",
    "\n",
    "Thereby, the **Profit** is given by:\n",
    "$$\\pi (Q) = TR(Q)-C(Q)$$\n"
   ]
  },
  {
   "cell_type": "markdown",
   "metadata": {},
   "source": [
    "## Analytical solution"
   ]
  },
  {
   "cell_type": "markdown",
   "metadata": {},
   "source": [
    "If your model allows for an analytical solution, you should provide here.\n",
    "\n",
    "You may use Sympy for this. Then you can characterize the solution as a function of a parameter of the model.\n",
    "\n",
    "To characterize the solution, first derive a steady state equation as a function of a parameter using Sympy.solve and then turn it into a python function by Sympy.lambdify. See the lecture notes for details. "
   ]
  },
  {
   "cell_type": "markdown",
   "metadata": {},
   "source": [
    "First, i start off by solving the model analytically using *sumpy*:\n"
   ]
  },
  {
   "cell_type": "code",
   "execution_count": 9,
   "metadata": {},
   "outputs": [
    {
     "data": {
      "text/latex": [
       "$\\displaystyle - F - c \\left(\\frac{a}{2} - \\frac{b c}{2}\\right) + \\frac{\\left(\\frac{a}{2} - \\frac{b c}{2}\\right) \\left(\\frac{a}{2} + \\frac{b c}{2}\\right)}{b}$"
      ],
      "text/plain": [
       "-F - c*(a/2 - b*c/2) + (a/2 - b*c/2)*(a/2 + b*c/2)/b"
      ]
     },
     "execution_count": 9,
     "metadata": {},
     "output_type": "execute_result"
    }
   ],
   "source": [
    "# Define the symbols\n",
    "Q = sm.symbols('Q')\n",
    "a, b, c, F = sm.symbols('a b c F')\n",
    "\n",
    "# Define the inverse demand function\n",
    "P = (a - Q) / b\n",
    "\n",
    "# Define the cost function\n",
    "C = c * Q + F\n",
    "\n",
    "# Define the revenue function\n",
    "TR = P * Q\n",
    "\n",
    "# Define the profit function\n",
    "profit = TR - C\n",
    "\n",
    "# Create an equation for the first-order condition by differentiating the profit function with respect to Q\n",
    "profit_eq = sm.Eq(sm.diff(profit, Q), 0)\n",
    "\n",
    "# Solve the first-order condition for Q to find the quantity that maximizes profit\n",
    "Q_star = sm.solve(profit_eq, Q)[0]\n",
    "\n",
    "# Calculate the optimal price by substituting Q_star into the inverse demand function\n",
    "P_star = P.subs(Q, Q_star)\n",
    "\n",
    "# Calculate the optimal profit by substituting Q_star into the profit function\n",
    "profit_star = profit.subs(Q, Q_star)\n",
    "\n",
    "profit_star"
   ]
  },
  {
   "cell_type": "markdown",
   "metadata": {},
   "source": [
    "I turn my functions *Q_star*, *P_star* and *profit_star* into python functions using `lambdify`:"
   ]
  },
  {
   "cell_type": "code",
   "execution_count": 12,
   "metadata": {},
   "outputs": [
    {
     "name": "stdout",
     "output_type": "stream",
     "text": [
      "0.125\n",
      "0.75\n",
      "0.03125\n"
     ]
    }
   ],
   "source": [
    "ss_Q = sm.lambdify((a, b, c), Q_star, \"numpy\")\n",
    "ss_P = sm.lambdify((a, b, c), P_star, \"numpy\")\n",
    "ss_profit = sm.lambdify((a, b, c, F), profit_star, \"numpy\")\n",
    "\n",
    "#I evaluate the functions\n",
    "print(ss_Q(0.5, 0.5, 0.5))\n",
    "print(ss_P(0.5, 0.5, 0.5))\n",
    "print(ss_profit(0.5, 0.5, 0.5, 0))\n",
    "\n"
   ]
  },
  {
   "cell_type": "markdown",
   "metadata": {},
   "source": [
    "## Numerical solution"
   ]
  },
  {
   "cell_type": "markdown",
   "metadata": {},
   "source": [
    "You can always solve a model numerically. \n",
    "\n",
    "Define first the set of parameters you need. \n",
    "\n",
    "Then choose one of the optimization algorithms that we have gone through in the lectures based on what you think is most fitting for your model.\n",
    "\n",
    "Are there any problems with convergence? Does the model converge for all starting values? Make a lot of testing to figure these things out. "
   ]
  },
  {
   "cell_type": "markdown",
   "metadata": {},
   "source": [
    "# Further analysis"
   ]
  },
  {
   "cell_type": "markdown",
   "metadata": {},
   "source": [
    "Make detailed vizualizations of how your model changes with parameter values. \n",
    "\n",
    "Try to make an extension of the model. "
   ]
  },
  {
   "cell_type": "markdown",
   "metadata": {},
   "source": [
    "# Conclusion"
   ]
  },
  {
   "cell_type": "markdown",
   "metadata": {},
   "source": [
    "Add concise conclusion. "
   ]
  },
  {
   "cell_type": "markdown",
   "metadata": {},
   "source": [
    "Ideas for mandatory twists to the model:\n",
    "- Duopoly\n",
    "- Non-linear demand-function\n",
    "- Non-linear supply-function"
   ]
  },
  {
   "cell_type": "markdown",
   "metadata": {},
   "source": [
    "The **monopoly pricing model** is a basic model in microeconomics. We look at a monopoly on a market, looking to maximize their own profit. Given the demand for the consumers of the market, the monopoly can set a quantity which implies a ceratin price for the quantity sold, all adding up to the biggest profit possible.\n",
    "\n",
    "First, we consider the **basic monopoly pricing model**:\n",
    "\n",
    "1. $P$ is the price set by the monopolist.\n",
    "2. $Q$ is the quantity demanded at price P.\n",
    "3. $C(Q)$ is the cost function dependens on the quantity produced.\n",
    "\n",
    "Thereby, the **demand function** is ***linear*** and given by:\n",
    "$$Q=a-bP$$\n",
    "\n",
    "Where a is the maximum quantity that could be sold at P=0 while b can be interpreted as the sensititivy of the the quantity demanded to changes in price. The inverse is therefore:\n",
    "$$P(Q)=\\frac{1}{b}(a-Q)$$\n",
    "\n",
    "Furthermore, the **cost function** is ***linear*** and given by:\n",
    "$$C(Q) = cQ+F$$\n",
    "\n",
    "Where c is the variable cost per unit of production and F is the fixed cost.\n",
    "\n",
    "Funally, the **Revenue** is given by:\n",
    "$$TR(Q) = P(Q) \\cdot Q = (\\frac{1}{b}(a-Q)) \\cdot Q = \\frac{a}{b} \\cdot Q - \\frac{1}{b} Q^2$$\n",
    "\n",
    "Thereby, the **Profit** is given by:\n",
    "$$\\pi (Q) = TR(Q)-C(Q)= \\frac{a}{b} \\cdot Q - \\frac{1}{b} Q^2 - cQ-F$$\n",
    "\n",
    "To solve the model, we first find the first order condition of the profit with respect to the quantity $Q$:\n",
    "\n",
    "$$\\frac{d\\pi}{dQ} = \\frac{a}{b} - \\frac{2Q}{b} - c = 0$$\n",
    "\n",
    "Solving this equation for $Q$ gives us the profit-maximizing quantity:\n",
    "\n",
    "$$Q^* = \\frac{a - bc}{2}$$\n",
    "\n",
    "Substituting $Q^*$ back into the inverse demand function gives us the profit-maximizing price:\n",
    "\n",
    "$$P^* = \\frac{1}{b}(a - Q^*) = \\frac{1}{b}(a - \\frac{a - bc}{2}) = \\frac{a + bc}{2b}$$\n",
    "\n",
    "This price $P^*$ is the price at which the monopolist should sell their product to maximize profit, assuming no other constraints or strategic considerations intervene.\n",
    "\n",
    "Finally, substituting $Q^*$ into the profit function gives the maximum profit:\n",
    "\n",
    "$$\\pi^* = \\left(\\frac{a}{b} \\cdot Q^* - \\frac{1}{b} (Q^*)^2 - cQ^* - F\\right)$$\n",
    "$$\\pi^* = \\left(\\frac{a}{b} \\cdot \\frac{a - bc}{2} - \\frac{1}{b} \\left(\\frac{a - bc}{2}\\right)^2 - c \\frac{a - bc}{2} - F\\right)$$\n",
    "\n"
   ]
  }
 ],
 "metadata": {
  "kernelspec": {
   "display_name": "base",
   "language": "python",
   "name": "python3"
  },
  "language_info": {
   "codemirror_mode": {
    "name": "ipython",
    "version": 3
   },
   "file_extension": ".py",
   "mimetype": "text/x-python",
   "name": "python",
   "nbconvert_exporter": "python",
   "pygments_lexer": "ipython3",
   "version": "3.11.7"
  },
  "toc-autonumbering": true,
  "vscode": {
   "interpreter": {
    "hash": "47ef90cdf3004d3f859f1fb202523c65c07ba7c22eefd261b181f4744e2d0403"
   }
  }
 },
 "nbformat": 4,
 "nbformat_minor": 4
}
